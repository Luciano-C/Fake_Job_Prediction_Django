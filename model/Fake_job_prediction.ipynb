{
 "cells": [
  {
   "cell_type": "markdown",
   "id": "bf8537ff",
   "metadata": {},
   "source": [
    "**job_id**: Unique Job ID  \n",
    "**title**: The title of the job ad entry  \n",
    "**location**: Geographical location of the job ad  \n",
    "**department**: Corporate department (e.g. sales)  \n",
    "**salary_range**: Indicative salary range (e.g. \\\\$50,000-\\\\$60,000)  \n",
    "**company_profile**: A brief company description  \n",
    "**description**: The details description of the job ad  \n",
    "**requirements**: Enlisted requirements for the job opening  \n",
    "**benefits**: Enlisted offered benefits by the employer  \n",
    "**telecommuting**: True for telecommuting positions  \n",
    "**hascompanylogo**: True if company logo is present  \n",
    "**has_questions**: True if screening questions are present  \n",
    "**employment_type**: Full-type, Part-time, Contract, etc  \n",
    "**required_experience**: Executive, Entry level, Intern, etc  \n",
    "**required_education**: Doctorate, Master’s Degree, Bachelor, etc  \n",
    "**industry**: Automotive, IT, Health care, Real estate, etc  \n",
    "**function**: Consulting, Engineering, Research, Sales etc  \n",
    "**fraudulent**: target - Classification attribute  "
   ]
  },
  {
   "cell_type": "code",
   "execution_count": 44,
   "id": "431fccf8",
   "metadata": {},
   "outputs": [],
   "source": [
    "import numpy as np\n",
    "import pandas as pd\n",
    "from sklearn.model_selection import train_test_split\n",
    "from sklearn.feature_extraction.text import TfidfVectorizer\n",
    "from sklearn.linear_model import LogisticRegression\n",
    "from sklearn.metrics import confusion_matrix, accuracy_score, precision_score, recall_score, f1_score\n",
    "import matplotlib.pyplot as plt\n",
    "import seaborn as sns"
   ]
  },
  {
   "cell_type": "markdown",
   "id": "dfa4f7d2",
   "metadata": {},
   "source": [
    "## Data Collection and Processing"
   ]
  },
  {
   "cell_type": "code",
   "execution_count": 45,
   "id": "c1ea337a",
   "metadata": {},
   "outputs": [],
   "source": [
    "# Loading data into dataframe\n",
    "job_data = pd.read_csv('dataset/fake_job_postings.csv')"
   ]
  },
  {
   "cell_type": "code",
   "execution_count": 46,
   "id": "d3637a84",
   "metadata": {},
   "outputs": [
    {
     "data": {
      "text/html": [
       "<div>\n",
       "<style scoped>\n",
       "    .dataframe tbody tr th:only-of-type {\n",
       "        vertical-align: middle;\n",
       "    }\n",
       "\n",
       "    .dataframe tbody tr th {\n",
       "        vertical-align: top;\n",
       "    }\n",
       "\n",
       "    .dataframe thead th {\n",
       "        text-align: right;\n",
       "    }\n",
       "</style>\n",
       "<table border=\"1\" class=\"dataframe\">\n",
       "  <thead>\n",
       "    <tr style=\"text-align: right;\">\n",
       "      <th></th>\n",
       "      <th>job_id</th>\n",
       "      <th>title</th>\n",
       "      <th>location</th>\n",
       "      <th>department</th>\n",
       "      <th>salary_range</th>\n",
       "      <th>company_profile</th>\n",
       "      <th>description</th>\n",
       "      <th>requirements</th>\n",
       "      <th>benefits</th>\n",
       "      <th>telecommuting</th>\n",
       "      <th>has_company_logo</th>\n",
       "      <th>has_questions</th>\n",
       "      <th>employment_type</th>\n",
       "      <th>required_experience</th>\n",
       "      <th>required_education</th>\n",
       "      <th>industry</th>\n",
       "      <th>function</th>\n",
       "      <th>fraudulent</th>\n",
       "    </tr>\n",
       "  </thead>\n",
       "  <tbody>\n",
       "    <tr>\n",
       "      <th>0</th>\n",
       "      <td>1</td>\n",
       "      <td>Marketing Intern</td>\n",
       "      <td>US, NY, New York</td>\n",
       "      <td>Marketing</td>\n",
       "      <td>NaN</td>\n",
       "      <td>We're Food52, and we've created a groundbreaki...</td>\n",
       "      <td>Food52, a fast-growing, James Beard Award-winn...</td>\n",
       "      <td>Experience with content management systems a m...</td>\n",
       "      <td>NaN</td>\n",
       "      <td>0</td>\n",
       "      <td>1</td>\n",
       "      <td>0</td>\n",
       "      <td>Other</td>\n",
       "      <td>Internship</td>\n",
       "      <td>NaN</td>\n",
       "      <td>NaN</td>\n",
       "      <td>Marketing</td>\n",
       "      <td>0</td>\n",
       "    </tr>\n",
       "    <tr>\n",
       "      <th>1</th>\n",
       "      <td>2</td>\n",
       "      <td>Customer Service - Cloud Video Production</td>\n",
       "      <td>NZ, , Auckland</td>\n",
       "      <td>Success</td>\n",
       "      <td>NaN</td>\n",
       "      <td>90 Seconds, the worlds Cloud Video Production ...</td>\n",
       "      <td>Organised - Focused - Vibrant - Awesome!Do you...</td>\n",
       "      <td>What we expect from you:Your key responsibilit...</td>\n",
       "      <td>What you will get from usThrough being part of...</td>\n",
       "      <td>0</td>\n",
       "      <td>1</td>\n",
       "      <td>0</td>\n",
       "      <td>Full-time</td>\n",
       "      <td>Not Applicable</td>\n",
       "      <td>NaN</td>\n",
       "      <td>Marketing and Advertising</td>\n",
       "      <td>Customer Service</td>\n",
       "      <td>0</td>\n",
       "    </tr>\n",
       "    <tr>\n",
       "      <th>2</th>\n",
       "      <td>3</td>\n",
       "      <td>Commissioning Machinery Assistant (CMA)</td>\n",
       "      <td>US, IA, Wever</td>\n",
       "      <td>NaN</td>\n",
       "      <td>NaN</td>\n",
       "      <td>Valor Services provides Workforce Solutions th...</td>\n",
       "      <td>Our client, located in Houston, is actively se...</td>\n",
       "      <td>Implement pre-commissioning and commissioning ...</td>\n",
       "      <td>NaN</td>\n",
       "      <td>0</td>\n",
       "      <td>1</td>\n",
       "      <td>0</td>\n",
       "      <td>NaN</td>\n",
       "      <td>NaN</td>\n",
       "      <td>NaN</td>\n",
       "      <td>NaN</td>\n",
       "      <td>NaN</td>\n",
       "      <td>0</td>\n",
       "    </tr>\n",
       "    <tr>\n",
       "      <th>3</th>\n",
       "      <td>4</td>\n",
       "      <td>Account Executive - Washington DC</td>\n",
       "      <td>US, DC, Washington</td>\n",
       "      <td>Sales</td>\n",
       "      <td>NaN</td>\n",
       "      <td>Our passion for improving quality of life thro...</td>\n",
       "      <td>THE COMPANY: ESRI – Environmental Systems Rese...</td>\n",
       "      <td>EDUCATION: Bachelor’s or Master’s in GIS, busi...</td>\n",
       "      <td>Our culture is anything but corporate—we have ...</td>\n",
       "      <td>0</td>\n",
       "      <td>1</td>\n",
       "      <td>0</td>\n",
       "      <td>Full-time</td>\n",
       "      <td>Mid-Senior level</td>\n",
       "      <td>Bachelor's Degree</td>\n",
       "      <td>Computer Software</td>\n",
       "      <td>Sales</td>\n",
       "      <td>0</td>\n",
       "    </tr>\n",
       "    <tr>\n",
       "      <th>4</th>\n",
       "      <td>5</td>\n",
       "      <td>Bill Review Manager</td>\n",
       "      <td>US, FL, Fort Worth</td>\n",
       "      <td>NaN</td>\n",
       "      <td>NaN</td>\n",
       "      <td>SpotSource Solutions LLC is a Global Human Cap...</td>\n",
       "      <td>JOB TITLE: Itemization Review ManagerLOCATION:...</td>\n",
       "      <td>QUALIFICATIONS:RN license in the State of Texa...</td>\n",
       "      <td>Full Benefits Offered</td>\n",
       "      <td>0</td>\n",
       "      <td>1</td>\n",
       "      <td>1</td>\n",
       "      <td>Full-time</td>\n",
       "      <td>Mid-Senior level</td>\n",
       "      <td>Bachelor's Degree</td>\n",
       "      <td>Hospital &amp; Health Care</td>\n",
       "      <td>Health Care Provider</td>\n",
       "      <td>0</td>\n",
       "    </tr>\n",
       "  </tbody>\n",
       "</table>\n",
       "</div>"
      ],
      "text/plain": [
       "   job_id                                      title            location  \\\n",
       "0       1                           Marketing Intern    US, NY, New York   \n",
       "1       2  Customer Service - Cloud Video Production      NZ, , Auckland   \n",
       "2       3    Commissioning Machinery Assistant (CMA)       US, IA, Wever   \n",
       "3       4          Account Executive - Washington DC  US, DC, Washington   \n",
       "4       5                        Bill Review Manager  US, FL, Fort Worth   \n",
       "\n",
       "  department salary_range                                    company_profile  \\\n",
       "0  Marketing          NaN  We're Food52, and we've created a groundbreaki...   \n",
       "1    Success          NaN  90 Seconds, the worlds Cloud Video Production ...   \n",
       "2        NaN          NaN  Valor Services provides Workforce Solutions th...   \n",
       "3      Sales          NaN  Our passion for improving quality of life thro...   \n",
       "4        NaN          NaN  SpotSource Solutions LLC is a Global Human Cap...   \n",
       "\n",
       "                                         description  \\\n",
       "0  Food52, a fast-growing, James Beard Award-winn...   \n",
       "1  Organised - Focused - Vibrant - Awesome!Do you...   \n",
       "2  Our client, located in Houston, is actively se...   \n",
       "3  THE COMPANY: ESRI – Environmental Systems Rese...   \n",
       "4  JOB TITLE: Itemization Review ManagerLOCATION:...   \n",
       "\n",
       "                                        requirements  \\\n",
       "0  Experience with content management systems a m...   \n",
       "1  What we expect from you:Your key responsibilit...   \n",
       "2  Implement pre-commissioning and commissioning ...   \n",
       "3  EDUCATION: Bachelor’s or Master’s in GIS, busi...   \n",
       "4  QUALIFICATIONS:RN license in the State of Texa...   \n",
       "\n",
       "                                            benefits  telecommuting  \\\n",
       "0                                                NaN              0   \n",
       "1  What you will get from usThrough being part of...              0   \n",
       "2                                                NaN              0   \n",
       "3  Our culture is anything but corporate—we have ...              0   \n",
       "4                              Full Benefits Offered              0   \n",
       "\n",
       "   has_company_logo  has_questions employment_type required_experience  \\\n",
       "0                 1              0           Other          Internship   \n",
       "1                 1              0       Full-time      Not Applicable   \n",
       "2                 1              0             NaN                 NaN   \n",
       "3                 1              0       Full-time    Mid-Senior level   \n",
       "4                 1              1       Full-time    Mid-Senior level   \n",
       "\n",
       "  required_education                   industry              function  \\\n",
       "0                NaN                        NaN             Marketing   \n",
       "1                NaN  Marketing and Advertising      Customer Service   \n",
       "2                NaN                        NaN                   NaN   \n",
       "3  Bachelor's Degree          Computer Software                 Sales   \n",
       "4  Bachelor's Degree     Hospital & Health Care  Health Care Provider   \n",
       "\n",
       "   fraudulent  \n",
       "0           0  \n",
       "1           0  \n",
       "2           0  \n",
       "3           0  \n",
       "4           0  "
      ]
     },
     "execution_count": 46,
     "metadata": {},
     "output_type": "execute_result"
    }
   ],
   "source": [
    "# First 5 rows\n",
    "job_data.head()"
   ]
  },
  {
   "cell_type": "code",
   "execution_count": 47,
   "id": "50b32cf8",
   "metadata": {},
   "outputs": [
    {
     "data": {
      "text/plain": [
       "(17880, 18)"
      ]
     },
     "execution_count": 47,
     "metadata": {},
     "output_type": "execute_result"
    }
   ],
   "source": [
    "# Number of rows and columns\n",
    "job_data.shape"
   ]
  },
  {
   "cell_type": "code",
   "execution_count": 48,
   "id": "c8cbe8a7",
   "metadata": {},
   "outputs": [
    {
     "data": {
      "text/html": [
       "<div>\n",
       "<style scoped>\n",
       "    .dataframe tbody tr th:only-of-type {\n",
       "        vertical-align: middle;\n",
       "    }\n",
       "\n",
       "    .dataframe tbody tr th {\n",
       "        vertical-align: top;\n",
       "    }\n",
       "\n",
       "    .dataframe thead th {\n",
       "        text-align: right;\n",
       "    }\n",
       "</style>\n",
       "<table border=\"1\" class=\"dataframe\">\n",
       "  <thead>\n",
       "    <tr style=\"text-align: right;\">\n",
       "      <th></th>\n",
       "      <th>job_id</th>\n",
       "      <th>telecommuting</th>\n",
       "      <th>has_company_logo</th>\n",
       "      <th>has_questions</th>\n",
       "      <th>fraudulent</th>\n",
       "    </tr>\n",
       "  </thead>\n",
       "  <tbody>\n",
       "    <tr>\n",
       "      <th>count</th>\n",
       "      <td>17880.000000</td>\n",
       "      <td>17880.000000</td>\n",
       "      <td>17880.000000</td>\n",
       "      <td>17880.000000</td>\n",
       "      <td>17880.000000</td>\n",
       "    </tr>\n",
       "    <tr>\n",
       "      <th>mean</th>\n",
       "      <td>8940.500000</td>\n",
       "      <td>0.042897</td>\n",
       "      <td>0.795302</td>\n",
       "      <td>0.491723</td>\n",
       "      <td>0.048434</td>\n",
       "    </tr>\n",
       "    <tr>\n",
       "      <th>std</th>\n",
       "      <td>5161.655742</td>\n",
       "      <td>0.202631</td>\n",
       "      <td>0.403492</td>\n",
       "      <td>0.499945</td>\n",
       "      <td>0.214688</td>\n",
       "    </tr>\n",
       "    <tr>\n",
       "      <th>min</th>\n",
       "      <td>1.000000</td>\n",
       "      <td>0.000000</td>\n",
       "      <td>0.000000</td>\n",
       "      <td>0.000000</td>\n",
       "      <td>0.000000</td>\n",
       "    </tr>\n",
       "    <tr>\n",
       "      <th>25%</th>\n",
       "      <td>4470.750000</td>\n",
       "      <td>0.000000</td>\n",
       "      <td>1.000000</td>\n",
       "      <td>0.000000</td>\n",
       "      <td>0.000000</td>\n",
       "    </tr>\n",
       "    <tr>\n",
       "      <th>50%</th>\n",
       "      <td>8940.500000</td>\n",
       "      <td>0.000000</td>\n",
       "      <td>1.000000</td>\n",
       "      <td>0.000000</td>\n",
       "      <td>0.000000</td>\n",
       "    </tr>\n",
       "    <tr>\n",
       "      <th>75%</th>\n",
       "      <td>13410.250000</td>\n",
       "      <td>0.000000</td>\n",
       "      <td>1.000000</td>\n",
       "      <td>1.000000</td>\n",
       "      <td>0.000000</td>\n",
       "    </tr>\n",
       "    <tr>\n",
       "      <th>max</th>\n",
       "      <td>17880.000000</td>\n",
       "      <td>1.000000</td>\n",
       "      <td>1.000000</td>\n",
       "      <td>1.000000</td>\n",
       "      <td>1.000000</td>\n",
       "    </tr>\n",
       "  </tbody>\n",
       "</table>\n",
       "</div>"
      ],
      "text/plain": [
       "             job_id  telecommuting  has_company_logo  has_questions  \\\n",
       "count  17880.000000   17880.000000      17880.000000   17880.000000   \n",
       "mean    8940.500000       0.042897          0.795302       0.491723   \n",
       "std     5161.655742       0.202631          0.403492       0.499945   \n",
       "min        1.000000       0.000000          0.000000       0.000000   \n",
       "25%     4470.750000       0.000000          1.000000       0.000000   \n",
       "50%     8940.500000       0.000000          1.000000       0.000000   \n",
       "75%    13410.250000       0.000000          1.000000       1.000000   \n",
       "max    17880.000000       1.000000          1.000000       1.000000   \n",
       "\n",
       "         fraudulent  \n",
       "count  17880.000000  \n",
       "mean       0.048434  \n",
       "std        0.214688  \n",
       "min        0.000000  \n",
       "25%        0.000000  \n",
       "50%        0.000000  \n",
       "75%        0.000000  \n",
       "max        1.000000  "
      ]
     },
     "execution_count": 48,
     "metadata": {},
     "output_type": "execute_result"
    }
   ],
   "source": [
    "job_data.describe()"
   ]
  },
  {
   "cell_type": "code",
   "execution_count": 49,
   "id": "bc3dc242",
   "metadata": {},
   "outputs": [
    {
     "data": {
      "text/plain": [
       "job_id                  int64\n",
       "title                  object\n",
       "location               object\n",
       "department             object\n",
       "salary_range           object\n",
       "company_profile        object\n",
       "description            object\n",
       "requirements           object\n",
       "benefits               object\n",
       "telecommuting           int64\n",
       "has_company_logo        int64\n",
       "has_questions           int64\n",
       "employment_type        object\n",
       "required_experience    object\n",
       "required_education     object\n",
       "industry               object\n",
       "function               object\n",
       "fraudulent              int64\n",
       "dtype: object"
      ]
     },
     "execution_count": 49,
     "metadata": {},
     "output_type": "execute_result"
    }
   ],
   "source": [
    "# Checking type of data\n",
    "job_data.dtypes"
   ]
  },
  {
   "cell_type": "code",
   "execution_count": 50,
   "id": "c2b16092",
   "metadata": {},
   "outputs": [
    {
     "data": {
      "text/plain": [
       "job_id                     0\n",
       "title                      0\n",
       "location                 346\n",
       "department             11547\n",
       "salary_range           15012\n",
       "company_profile         3308\n",
       "description                1\n",
       "requirements            2695\n",
       "benefits                7210\n",
       "telecommuting              0\n",
       "has_company_logo           0\n",
       "has_questions              0\n",
       "employment_type         3471\n",
       "required_experience     7050\n",
       "required_education      8105\n",
       "industry                4903\n",
       "function                6455\n",
       "fraudulent                 0\n",
       "dtype: int64"
      ]
     },
     "execution_count": 50,
     "metadata": {},
     "output_type": "execute_result"
    }
   ],
   "source": [
    "# Checking missing values\n",
    "job_data.isna().sum()"
   ]
  },
  {
   "cell_type": "markdown",
   "id": "dd0cc520",
   "metadata": {},
   "source": [
    "**For simplicity we are going to consider only the columns that seem more relevant and those will be:\n",
    "title, location, company_profile, description, requirements, benefits, has_questions, employment_type, required_experience and requiered_education**"
   ]
  },
  {
   "cell_type": "code",
   "execution_count": 51,
   "id": "1437e1d2",
   "metadata": {},
   "outputs": [],
   "source": [
    "job_data_filtered_columns = job_data.drop(columns=['job_id', 'department', 'salary_range', 'telecommuting', 'has_company_logo', 'industry', 'function'], axis=1)"
   ]
  },
  {
   "cell_type": "code",
   "execution_count": 52,
   "id": "f455a370",
   "metadata": {},
   "outputs": [
    {
     "data": {
      "text/html": [
       "<div>\n",
       "<style scoped>\n",
       "    .dataframe tbody tr th:only-of-type {\n",
       "        vertical-align: middle;\n",
       "    }\n",
       "\n",
       "    .dataframe tbody tr th {\n",
       "        vertical-align: top;\n",
       "    }\n",
       "\n",
       "    .dataframe thead th {\n",
       "        text-align: right;\n",
       "    }\n",
       "</style>\n",
       "<table border=\"1\" class=\"dataframe\">\n",
       "  <thead>\n",
       "    <tr style=\"text-align: right;\">\n",
       "      <th></th>\n",
       "      <th>title</th>\n",
       "      <th>location</th>\n",
       "      <th>company_profile</th>\n",
       "      <th>description</th>\n",
       "      <th>requirements</th>\n",
       "      <th>benefits</th>\n",
       "      <th>has_questions</th>\n",
       "      <th>employment_type</th>\n",
       "      <th>required_experience</th>\n",
       "      <th>required_education</th>\n",
       "      <th>fraudulent</th>\n",
       "    </tr>\n",
       "  </thead>\n",
       "  <tbody>\n",
       "    <tr>\n",
       "      <th>0</th>\n",
       "      <td>Marketing Intern</td>\n",
       "      <td>US, NY, New York</td>\n",
       "      <td>We're Food52, and we've created a groundbreaki...</td>\n",
       "      <td>Food52, a fast-growing, James Beard Award-winn...</td>\n",
       "      <td>Experience with content management systems a m...</td>\n",
       "      <td>NaN</td>\n",
       "      <td>0</td>\n",
       "      <td>Other</td>\n",
       "      <td>Internship</td>\n",
       "      <td>NaN</td>\n",
       "      <td>0</td>\n",
       "    </tr>\n",
       "    <tr>\n",
       "      <th>1</th>\n",
       "      <td>Customer Service - Cloud Video Production</td>\n",
       "      <td>NZ, , Auckland</td>\n",
       "      <td>90 Seconds, the worlds Cloud Video Production ...</td>\n",
       "      <td>Organised - Focused - Vibrant - Awesome!Do you...</td>\n",
       "      <td>What we expect from you:Your key responsibilit...</td>\n",
       "      <td>What you will get from usThrough being part of...</td>\n",
       "      <td>0</td>\n",
       "      <td>Full-time</td>\n",
       "      <td>Not Applicable</td>\n",
       "      <td>NaN</td>\n",
       "      <td>0</td>\n",
       "    </tr>\n",
       "    <tr>\n",
       "      <th>2</th>\n",
       "      <td>Commissioning Machinery Assistant (CMA)</td>\n",
       "      <td>US, IA, Wever</td>\n",
       "      <td>Valor Services provides Workforce Solutions th...</td>\n",
       "      <td>Our client, located in Houston, is actively se...</td>\n",
       "      <td>Implement pre-commissioning and commissioning ...</td>\n",
       "      <td>NaN</td>\n",
       "      <td>0</td>\n",
       "      <td>NaN</td>\n",
       "      <td>NaN</td>\n",
       "      <td>NaN</td>\n",
       "      <td>0</td>\n",
       "    </tr>\n",
       "    <tr>\n",
       "      <th>3</th>\n",
       "      <td>Account Executive - Washington DC</td>\n",
       "      <td>US, DC, Washington</td>\n",
       "      <td>Our passion for improving quality of life thro...</td>\n",
       "      <td>THE COMPANY: ESRI – Environmental Systems Rese...</td>\n",
       "      <td>EDUCATION: Bachelor’s or Master’s in GIS, busi...</td>\n",
       "      <td>Our culture is anything but corporate—we have ...</td>\n",
       "      <td>0</td>\n",
       "      <td>Full-time</td>\n",
       "      <td>Mid-Senior level</td>\n",
       "      <td>Bachelor's Degree</td>\n",
       "      <td>0</td>\n",
       "    </tr>\n",
       "    <tr>\n",
       "      <th>4</th>\n",
       "      <td>Bill Review Manager</td>\n",
       "      <td>US, FL, Fort Worth</td>\n",
       "      <td>SpotSource Solutions LLC is a Global Human Cap...</td>\n",
       "      <td>JOB TITLE: Itemization Review ManagerLOCATION:...</td>\n",
       "      <td>QUALIFICATIONS:RN license in the State of Texa...</td>\n",
       "      <td>Full Benefits Offered</td>\n",
       "      <td>1</td>\n",
       "      <td>Full-time</td>\n",
       "      <td>Mid-Senior level</td>\n",
       "      <td>Bachelor's Degree</td>\n",
       "      <td>0</td>\n",
       "    </tr>\n",
       "  </tbody>\n",
       "</table>\n",
       "</div>"
      ],
      "text/plain": [
       "                                       title            location  \\\n",
       "0                           Marketing Intern    US, NY, New York   \n",
       "1  Customer Service - Cloud Video Production      NZ, , Auckland   \n",
       "2    Commissioning Machinery Assistant (CMA)       US, IA, Wever   \n",
       "3          Account Executive - Washington DC  US, DC, Washington   \n",
       "4                        Bill Review Manager  US, FL, Fort Worth   \n",
       "\n",
       "                                     company_profile  \\\n",
       "0  We're Food52, and we've created a groundbreaki...   \n",
       "1  90 Seconds, the worlds Cloud Video Production ...   \n",
       "2  Valor Services provides Workforce Solutions th...   \n",
       "3  Our passion for improving quality of life thro...   \n",
       "4  SpotSource Solutions LLC is a Global Human Cap...   \n",
       "\n",
       "                                         description  \\\n",
       "0  Food52, a fast-growing, James Beard Award-winn...   \n",
       "1  Organised - Focused - Vibrant - Awesome!Do you...   \n",
       "2  Our client, located in Houston, is actively se...   \n",
       "3  THE COMPANY: ESRI – Environmental Systems Rese...   \n",
       "4  JOB TITLE: Itemization Review ManagerLOCATION:...   \n",
       "\n",
       "                                        requirements  \\\n",
       "0  Experience with content management systems a m...   \n",
       "1  What we expect from you:Your key responsibilit...   \n",
       "2  Implement pre-commissioning and commissioning ...   \n",
       "3  EDUCATION: Bachelor’s or Master’s in GIS, busi...   \n",
       "4  QUALIFICATIONS:RN license in the State of Texa...   \n",
       "\n",
       "                                            benefits  has_questions  \\\n",
       "0                                                NaN              0   \n",
       "1  What you will get from usThrough being part of...              0   \n",
       "2                                                NaN              0   \n",
       "3  Our culture is anything but corporate—we have ...              0   \n",
       "4                              Full Benefits Offered              1   \n",
       "\n",
       "  employment_type required_experience required_education  fraudulent  \n",
       "0           Other          Internship                NaN           0  \n",
       "1       Full-time      Not Applicable                NaN           0  \n",
       "2             NaN                 NaN                NaN           0  \n",
       "3       Full-time    Mid-Senior level  Bachelor's Degree           0  \n",
       "4       Full-time    Mid-Senior level  Bachelor's Degree           0  "
      ]
     },
     "execution_count": 52,
     "metadata": {},
     "output_type": "execute_result"
    }
   ],
   "source": [
    "job_data_filtered_columns.head()"
   ]
  },
  {
   "cell_type": "markdown",
   "id": "e88e092a",
   "metadata": {},
   "source": [
    "**The NaN will be replaced with empty strings**"
   ]
  },
  {
   "cell_type": "code",
   "execution_count": 53,
   "id": "19b153ed",
   "metadata": {},
   "outputs": [],
   "source": [
    "clean_job_data = job_data_filtered_columns.where((pd.notnull(job_data)), '')"
   ]
  },
  {
   "cell_type": "code",
   "execution_count": 54,
   "id": "090f40f7",
   "metadata": {},
   "outputs": [
    {
     "data": {
      "text/plain": [
       "title                  0\n",
       "location               0\n",
       "company_profile        0\n",
       "description            0\n",
       "requirements           0\n",
       "benefits               0\n",
       "has_questions          0\n",
       "employment_type        0\n",
       "required_experience    0\n",
       "required_education     0\n",
       "fraudulent             0\n",
       "dtype: int64"
      ]
     },
     "execution_count": 54,
     "metadata": {},
     "output_type": "execute_result"
    }
   ],
   "source": [
    "clean_job_data.isna().sum()"
   ]
  },
  {
   "cell_type": "code",
   "execution_count": 55,
   "id": "1d3c9f6c",
   "metadata": {},
   "outputs": [
    {
     "data": {
      "text/html": [
       "<div>\n",
       "<style scoped>\n",
       "    .dataframe tbody tr th:only-of-type {\n",
       "        vertical-align: middle;\n",
       "    }\n",
       "\n",
       "    .dataframe tbody tr th {\n",
       "        vertical-align: top;\n",
       "    }\n",
       "\n",
       "    .dataframe thead th {\n",
       "        text-align: right;\n",
       "    }\n",
       "</style>\n",
       "<table border=\"1\" class=\"dataframe\">\n",
       "  <thead>\n",
       "    <tr style=\"text-align: right;\">\n",
       "      <th></th>\n",
       "      <th>title</th>\n",
       "      <th>location</th>\n",
       "      <th>company_profile</th>\n",
       "      <th>description</th>\n",
       "      <th>requirements</th>\n",
       "      <th>benefits</th>\n",
       "      <th>has_questions</th>\n",
       "      <th>employment_type</th>\n",
       "      <th>required_experience</th>\n",
       "      <th>required_education</th>\n",
       "      <th>fraudulent</th>\n",
       "    </tr>\n",
       "  </thead>\n",
       "  <tbody>\n",
       "    <tr>\n",
       "      <th>0</th>\n",
       "      <td>Marketing Intern</td>\n",
       "      <td>US, NY, New York</td>\n",
       "      <td>We're Food52, and we've created a groundbreaki...</td>\n",
       "      <td>Food52, a fast-growing, James Beard Award-winn...</td>\n",
       "      <td>Experience with content management systems a m...</td>\n",
       "      <td></td>\n",
       "      <td>0</td>\n",
       "      <td>Other</td>\n",
       "      <td>Internship</td>\n",
       "      <td></td>\n",
       "      <td>0</td>\n",
       "    </tr>\n",
       "    <tr>\n",
       "      <th>1</th>\n",
       "      <td>Customer Service - Cloud Video Production</td>\n",
       "      <td>NZ, , Auckland</td>\n",
       "      <td>90 Seconds, the worlds Cloud Video Production ...</td>\n",
       "      <td>Organised - Focused - Vibrant - Awesome!Do you...</td>\n",
       "      <td>What we expect from you:Your key responsibilit...</td>\n",
       "      <td>What you will get from usThrough being part of...</td>\n",
       "      <td>0</td>\n",
       "      <td>Full-time</td>\n",
       "      <td>Not Applicable</td>\n",
       "      <td></td>\n",
       "      <td>0</td>\n",
       "    </tr>\n",
       "    <tr>\n",
       "      <th>2</th>\n",
       "      <td>Commissioning Machinery Assistant (CMA)</td>\n",
       "      <td>US, IA, Wever</td>\n",
       "      <td>Valor Services provides Workforce Solutions th...</td>\n",
       "      <td>Our client, located in Houston, is actively se...</td>\n",
       "      <td>Implement pre-commissioning and commissioning ...</td>\n",
       "      <td></td>\n",
       "      <td>0</td>\n",
       "      <td></td>\n",
       "      <td></td>\n",
       "      <td></td>\n",
       "      <td>0</td>\n",
       "    </tr>\n",
       "    <tr>\n",
       "      <th>3</th>\n",
       "      <td>Account Executive - Washington DC</td>\n",
       "      <td>US, DC, Washington</td>\n",
       "      <td>Our passion for improving quality of life thro...</td>\n",
       "      <td>THE COMPANY: ESRI – Environmental Systems Rese...</td>\n",
       "      <td>EDUCATION: Bachelor’s or Master’s in GIS, busi...</td>\n",
       "      <td>Our culture is anything but corporate—we have ...</td>\n",
       "      <td>0</td>\n",
       "      <td>Full-time</td>\n",
       "      <td>Mid-Senior level</td>\n",
       "      <td>Bachelor's Degree</td>\n",
       "      <td>0</td>\n",
       "    </tr>\n",
       "    <tr>\n",
       "      <th>4</th>\n",
       "      <td>Bill Review Manager</td>\n",
       "      <td>US, FL, Fort Worth</td>\n",
       "      <td>SpotSource Solutions LLC is a Global Human Cap...</td>\n",
       "      <td>JOB TITLE: Itemization Review ManagerLOCATION:...</td>\n",
       "      <td>QUALIFICATIONS:RN license in the State of Texa...</td>\n",
       "      <td>Full Benefits Offered</td>\n",
       "      <td>1</td>\n",
       "      <td>Full-time</td>\n",
       "      <td>Mid-Senior level</td>\n",
       "      <td>Bachelor's Degree</td>\n",
       "      <td>0</td>\n",
       "    </tr>\n",
       "  </tbody>\n",
       "</table>\n",
       "</div>"
      ],
      "text/plain": [
       "                                       title            location  \\\n",
       "0                           Marketing Intern    US, NY, New York   \n",
       "1  Customer Service - Cloud Video Production      NZ, , Auckland   \n",
       "2    Commissioning Machinery Assistant (CMA)       US, IA, Wever   \n",
       "3          Account Executive - Washington DC  US, DC, Washington   \n",
       "4                        Bill Review Manager  US, FL, Fort Worth   \n",
       "\n",
       "                                     company_profile  \\\n",
       "0  We're Food52, and we've created a groundbreaki...   \n",
       "1  90 Seconds, the worlds Cloud Video Production ...   \n",
       "2  Valor Services provides Workforce Solutions th...   \n",
       "3  Our passion for improving quality of life thro...   \n",
       "4  SpotSource Solutions LLC is a Global Human Cap...   \n",
       "\n",
       "                                         description  \\\n",
       "0  Food52, a fast-growing, James Beard Award-winn...   \n",
       "1  Organised - Focused - Vibrant - Awesome!Do you...   \n",
       "2  Our client, located in Houston, is actively se...   \n",
       "3  THE COMPANY: ESRI – Environmental Systems Rese...   \n",
       "4  JOB TITLE: Itemization Review ManagerLOCATION:...   \n",
       "\n",
       "                                        requirements  \\\n",
       "0  Experience with content management systems a m...   \n",
       "1  What we expect from you:Your key responsibilit...   \n",
       "2  Implement pre-commissioning and commissioning ...   \n",
       "3  EDUCATION: Bachelor’s or Master’s in GIS, busi...   \n",
       "4  QUALIFICATIONS:RN license in the State of Texa...   \n",
       "\n",
       "                                            benefits  has_questions  \\\n",
       "0                                                                 0   \n",
       "1  What you will get from usThrough being part of...              0   \n",
       "2                                                                 0   \n",
       "3  Our culture is anything but corporate—we have ...              0   \n",
       "4                              Full Benefits Offered              1   \n",
       "\n",
       "  employment_type required_experience required_education  fraudulent  \n",
       "0           Other          Internship                              0  \n",
       "1       Full-time      Not Applicable                              0  \n",
       "2                                                                  0  \n",
       "3       Full-time    Mid-Senior level  Bachelor's Degree           0  \n",
       "4       Full-time    Mid-Senior level  Bachelor's Degree           0  "
      ]
     },
     "execution_count": 55,
     "metadata": {},
     "output_type": "execute_result"
    }
   ],
   "source": [
    "clean_job_data.head()"
   ]
  },
  {
   "cell_type": "markdown",
   "id": "2c97c813",
   "metadata": {},
   "source": [
    "**For location, only the country will be considered**"
   ]
  },
  {
   "cell_type": "code",
   "execution_count": 56,
   "id": "96a14fb9",
   "metadata": {},
   "outputs": [],
   "source": [
    "def get_country(location):\n",
    "    return location.split(',')[0]"
   ]
  },
  {
   "cell_type": "code",
   "execution_count": 57,
   "id": "b6bc4a6f",
   "metadata": {},
   "outputs": [],
   "source": [
    "clean_job_data['location'] = clean_job_data.location.apply(get_country)"
   ]
  },
  {
   "cell_type": "code",
   "execution_count": 58,
   "id": "8cb91390",
   "metadata": {},
   "outputs": [
    {
     "data": {
      "text/html": [
       "<div>\n",
       "<style scoped>\n",
       "    .dataframe tbody tr th:only-of-type {\n",
       "        vertical-align: middle;\n",
       "    }\n",
       "\n",
       "    .dataframe tbody tr th {\n",
       "        vertical-align: top;\n",
       "    }\n",
       "\n",
       "    .dataframe thead th {\n",
       "        text-align: right;\n",
       "    }\n",
       "</style>\n",
       "<table border=\"1\" class=\"dataframe\">\n",
       "  <thead>\n",
       "    <tr style=\"text-align: right;\">\n",
       "      <th></th>\n",
       "      <th>title</th>\n",
       "      <th>location</th>\n",
       "      <th>company_profile</th>\n",
       "      <th>description</th>\n",
       "      <th>requirements</th>\n",
       "      <th>benefits</th>\n",
       "      <th>has_questions</th>\n",
       "      <th>employment_type</th>\n",
       "      <th>required_experience</th>\n",
       "      <th>required_education</th>\n",
       "      <th>fraudulent</th>\n",
       "    </tr>\n",
       "  </thead>\n",
       "  <tbody>\n",
       "    <tr>\n",
       "      <th>0</th>\n",
       "      <td>Marketing Intern</td>\n",
       "      <td>US</td>\n",
       "      <td>We're Food52, and we've created a groundbreaki...</td>\n",
       "      <td>Food52, a fast-growing, James Beard Award-winn...</td>\n",
       "      <td>Experience with content management systems a m...</td>\n",
       "      <td></td>\n",
       "      <td>0</td>\n",
       "      <td>Other</td>\n",
       "      <td>Internship</td>\n",
       "      <td></td>\n",
       "      <td>0</td>\n",
       "    </tr>\n",
       "    <tr>\n",
       "      <th>1</th>\n",
       "      <td>Customer Service - Cloud Video Production</td>\n",
       "      <td>NZ</td>\n",
       "      <td>90 Seconds, the worlds Cloud Video Production ...</td>\n",
       "      <td>Organised - Focused - Vibrant - Awesome!Do you...</td>\n",
       "      <td>What we expect from you:Your key responsibilit...</td>\n",
       "      <td>What you will get from usThrough being part of...</td>\n",
       "      <td>0</td>\n",
       "      <td>Full-time</td>\n",
       "      <td>Not Applicable</td>\n",
       "      <td></td>\n",
       "      <td>0</td>\n",
       "    </tr>\n",
       "    <tr>\n",
       "      <th>2</th>\n",
       "      <td>Commissioning Machinery Assistant (CMA)</td>\n",
       "      <td>US</td>\n",
       "      <td>Valor Services provides Workforce Solutions th...</td>\n",
       "      <td>Our client, located in Houston, is actively se...</td>\n",
       "      <td>Implement pre-commissioning and commissioning ...</td>\n",
       "      <td></td>\n",
       "      <td>0</td>\n",
       "      <td></td>\n",
       "      <td></td>\n",
       "      <td></td>\n",
       "      <td>0</td>\n",
       "    </tr>\n",
       "    <tr>\n",
       "      <th>3</th>\n",
       "      <td>Account Executive - Washington DC</td>\n",
       "      <td>US</td>\n",
       "      <td>Our passion for improving quality of life thro...</td>\n",
       "      <td>THE COMPANY: ESRI – Environmental Systems Rese...</td>\n",
       "      <td>EDUCATION: Bachelor’s or Master’s in GIS, busi...</td>\n",
       "      <td>Our culture is anything but corporate—we have ...</td>\n",
       "      <td>0</td>\n",
       "      <td>Full-time</td>\n",
       "      <td>Mid-Senior level</td>\n",
       "      <td>Bachelor's Degree</td>\n",
       "      <td>0</td>\n",
       "    </tr>\n",
       "    <tr>\n",
       "      <th>4</th>\n",
       "      <td>Bill Review Manager</td>\n",
       "      <td>US</td>\n",
       "      <td>SpotSource Solutions LLC is a Global Human Cap...</td>\n",
       "      <td>JOB TITLE: Itemization Review ManagerLOCATION:...</td>\n",
       "      <td>QUALIFICATIONS:RN license in the State of Texa...</td>\n",
       "      <td>Full Benefits Offered</td>\n",
       "      <td>1</td>\n",
       "      <td>Full-time</td>\n",
       "      <td>Mid-Senior level</td>\n",
       "      <td>Bachelor's Degree</td>\n",
       "      <td>0</td>\n",
       "    </tr>\n",
       "  </tbody>\n",
       "</table>\n",
       "</div>"
      ],
      "text/plain": [
       "                                       title location  \\\n",
       "0                           Marketing Intern       US   \n",
       "1  Customer Service - Cloud Video Production       NZ   \n",
       "2    Commissioning Machinery Assistant (CMA)       US   \n",
       "3          Account Executive - Washington DC       US   \n",
       "4                        Bill Review Manager       US   \n",
       "\n",
       "                                     company_profile  \\\n",
       "0  We're Food52, and we've created a groundbreaki...   \n",
       "1  90 Seconds, the worlds Cloud Video Production ...   \n",
       "2  Valor Services provides Workforce Solutions th...   \n",
       "3  Our passion for improving quality of life thro...   \n",
       "4  SpotSource Solutions LLC is a Global Human Cap...   \n",
       "\n",
       "                                         description  \\\n",
       "0  Food52, a fast-growing, James Beard Award-winn...   \n",
       "1  Organised - Focused - Vibrant - Awesome!Do you...   \n",
       "2  Our client, located in Houston, is actively se...   \n",
       "3  THE COMPANY: ESRI – Environmental Systems Rese...   \n",
       "4  JOB TITLE: Itemization Review ManagerLOCATION:...   \n",
       "\n",
       "                                        requirements  \\\n",
       "0  Experience with content management systems a m...   \n",
       "1  What we expect from you:Your key responsibilit...   \n",
       "2  Implement pre-commissioning and commissioning ...   \n",
       "3  EDUCATION: Bachelor’s or Master’s in GIS, busi...   \n",
       "4  QUALIFICATIONS:RN license in the State of Texa...   \n",
       "\n",
       "                                            benefits  has_questions  \\\n",
       "0                                                                 0   \n",
       "1  What you will get from usThrough being part of...              0   \n",
       "2                                                                 0   \n",
       "3  Our culture is anything but corporate—we have ...              0   \n",
       "4                              Full Benefits Offered              1   \n",
       "\n",
       "  employment_type required_experience required_education  fraudulent  \n",
       "0           Other          Internship                              0  \n",
       "1       Full-time      Not Applicable                              0  \n",
       "2                                                                  0  \n",
       "3       Full-time    Mid-Senior level  Bachelor's Degree           0  \n",
       "4       Full-time    Mid-Senior level  Bachelor's Degree           0  "
      ]
     },
     "execution_count": 58,
     "metadata": {},
     "output_type": "execute_result"
    }
   ],
   "source": [
    "clean_job_data.head()"
   ]
  },
  {
   "cell_type": "code",
   "execution_count": 59,
   "id": "c1c2955f",
   "metadata": {},
   "outputs": [
    {
     "data": {
      "text/plain": [
       "title                  object\n",
       "location               object\n",
       "company_profile        object\n",
       "description            object\n",
       "requirements           object\n",
       "benefits               object\n",
       "has_questions           int64\n",
       "employment_type        object\n",
       "required_experience    object\n",
       "required_education     object\n",
       "fraudulent              int64\n",
       "dtype: object"
      ]
     },
     "execution_count": 59,
     "metadata": {},
     "output_type": "execute_result"
    }
   ],
   "source": [
    "clean_job_data.dtypes"
   ]
  },
  {
   "cell_type": "code",
   "execution_count": 60,
   "id": "e558d448",
   "metadata": {},
   "outputs": [],
   "source": [
    "# has_questions will be converted to string\n",
    "clean_job_data['has_questions'] = clean_job_data['has_questions'].astype(str)"
   ]
  },
  {
   "cell_type": "code",
   "execution_count": 61,
   "id": "82fa54e7",
   "metadata": {},
   "outputs": [
    {
     "data": {
      "text/plain": [
       "title                  object\n",
       "location               object\n",
       "company_profile        object\n",
       "description            object\n",
       "requirements           object\n",
       "benefits               object\n",
       "has_questions          object\n",
       "employment_type        object\n",
       "required_experience    object\n",
       "required_education     object\n",
       "fraudulent              int64\n",
       "dtype: object"
      ]
     },
     "execution_count": 61,
     "metadata": {},
     "output_type": "execute_result"
    }
   ],
   "source": [
    "clean_job_data.dtypes"
   ]
  },
  {
   "cell_type": "markdown",
   "id": "3a65823c",
   "metadata": {},
   "source": [
    "**A column with the text of all the features will be created to be used as X**"
   ]
  },
  {
   "cell_type": "code",
   "execution_count": 62,
   "id": "6e65824c",
   "metadata": {},
   "outputs": [],
   "source": [
    "clean_job_data['text'] = clean_job_data['title'] + ' - ' + clean_job_data['location'] + ' - ' + clean_job_data['company_profile'] + ' - ' + clean_job_data['description'] + ' - ' + clean_job_data['requirements'] +  ' - ' + clean_job_data['benefits'] + ' - ' + clean_job_data['has_questions'] + ' - ' + clean_job_data['employment_type'] + ' - ' + clean_job_data['required_experience'] + ' - ' + clean_job_data['required_education']"
   ]
  },
  {
   "cell_type": "code",
   "execution_count": 63,
   "id": "b3fdaef7",
   "metadata": {},
   "outputs": [
    {
     "data": {
      "text/html": [
       "<div>\n",
       "<style scoped>\n",
       "    .dataframe tbody tr th:only-of-type {\n",
       "        vertical-align: middle;\n",
       "    }\n",
       "\n",
       "    .dataframe tbody tr th {\n",
       "        vertical-align: top;\n",
       "    }\n",
       "\n",
       "    .dataframe thead th {\n",
       "        text-align: right;\n",
       "    }\n",
       "</style>\n",
       "<table border=\"1\" class=\"dataframe\">\n",
       "  <thead>\n",
       "    <tr style=\"text-align: right;\">\n",
       "      <th></th>\n",
       "      <th>title</th>\n",
       "      <th>location</th>\n",
       "      <th>company_profile</th>\n",
       "      <th>description</th>\n",
       "      <th>requirements</th>\n",
       "      <th>benefits</th>\n",
       "      <th>has_questions</th>\n",
       "      <th>employment_type</th>\n",
       "      <th>required_experience</th>\n",
       "      <th>required_education</th>\n",
       "      <th>fraudulent</th>\n",
       "      <th>text</th>\n",
       "    </tr>\n",
       "  </thead>\n",
       "  <tbody>\n",
       "    <tr>\n",
       "      <th>0</th>\n",
       "      <td>Marketing Intern</td>\n",
       "      <td>US</td>\n",
       "      <td>We're Food52, and we've created a groundbreaki...</td>\n",
       "      <td>Food52, a fast-growing, James Beard Award-winn...</td>\n",
       "      <td>Experience with content management systems a m...</td>\n",
       "      <td></td>\n",
       "      <td>0</td>\n",
       "      <td>Other</td>\n",
       "      <td>Internship</td>\n",
       "      <td></td>\n",
       "      <td>0</td>\n",
       "      <td>Marketing Intern - US - We're Food52, and we'v...</td>\n",
       "    </tr>\n",
       "    <tr>\n",
       "      <th>1</th>\n",
       "      <td>Customer Service - Cloud Video Production</td>\n",
       "      <td>NZ</td>\n",
       "      <td>90 Seconds, the worlds Cloud Video Production ...</td>\n",
       "      <td>Organised - Focused - Vibrant - Awesome!Do you...</td>\n",
       "      <td>What we expect from you:Your key responsibilit...</td>\n",
       "      <td>What you will get from usThrough being part of...</td>\n",
       "      <td>0</td>\n",
       "      <td>Full-time</td>\n",
       "      <td>Not Applicable</td>\n",
       "      <td></td>\n",
       "      <td>0</td>\n",
       "      <td>Customer Service - Cloud Video Production - NZ...</td>\n",
       "    </tr>\n",
       "    <tr>\n",
       "      <th>2</th>\n",
       "      <td>Commissioning Machinery Assistant (CMA)</td>\n",
       "      <td>US</td>\n",
       "      <td>Valor Services provides Workforce Solutions th...</td>\n",
       "      <td>Our client, located in Houston, is actively se...</td>\n",
       "      <td>Implement pre-commissioning and commissioning ...</td>\n",
       "      <td></td>\n",
       "      <td>0</td>\n",
       "      <td></td>\n",
       "      <td></td>\n",
       "      <td></td>\n",
       "      <td>0</td>\n",
       "      <td>Commissioning Machinery Assistant (CMA) - US -...</td>\n",
       "    </tr>\n",
       "    <tr>\n",
       "      <th>3</th>\n",
       "      <td>Account Executive - Washington DC</td>\n",
       "      <td>US</td>\n",
       "      <td>Our passion for improving quality of life thro...</td>\n",
       "      <td>THE COMPANY: ESRI – Environmental Systems Rese...</td>\n",
       "      <td>EDUCATION: Bachelor’s or Master’s in GIS, busi...</td>\n",
       "      <td>Our culture is anything but corporate—we have ...</td>\n",
       "      <td>0</td>\n",
       "      <td>Full-time</td>\n",
       "      <td>Mid-Senior level</td>\n",
       "      <td>Bachelor's Degree</td>\n",
       "      <td>0</td>\n",
       "      <td>Account Executive - Washington DC - US - Our p...</td>\n",
       "    </tr>\n",
       "    <tr>\n",
       "      <th>4</th>\n",
       "      <td>Bill Review Manager</td>\n",
       "      <td>US</td>\n",
       "      <td>SpotSource Solutions LLC is a Global Human Cap...</td>\n",
       "      <td>JOB TITLE: Itemization Review ManagerLOCATION:...</td>\n",
       "      <td>QUALIFICATIONS:RN license in the State of Texa...</td>\n",
       "      <td>Full Benefits Offered</td>\n",
       "      <td>1</td>\n",
       "      <td>Full-time</td>\n",
       "      <td>Mid-Senior level</td>\n",
       "      <td>Bachelor's Degree</td>\n",
       "      <td>0</td>\n",
       "      <td>Bill Review Manager - US - SpotSource Solution...</td>\n",
       "    </tr>\n",
       "  </tbody>\n",
       "</table>\n",
       "</div>"
      ],
      "text/plain": [
       "                                       title location  \\\n",
       "0                           Marketing Intern       US   \n",
       "1  Customer Service - Cloud Video Production       NZ   \n",
       "2    Commissioning Machinery Assistant (CMA)       US   \n",
       "3          Account Executive - Washington DC       US   \n",
       "4                        Bill Review Manager       US   \n",
       "\n",
       "                                     company_profile  \\\n",
       "0  We're Food52, and we've created a groundbreaki...   \n",
       "1  90 Seconds, the worlds Cloud Video Production ...   \n",
       "2  Valor Services provides Workforce Solutions th...   \n",
       "3  Our passion for improving quality of life thro...   \n",
       "4  SpotSource Solutions LLC is a Global Human Cap...   \n",
       "\n",
       "                                         description  \\\n",
       "0  Food52, a fast-growing, James Beard Award-winn...   \n",
       "1  Organised - Focused - Vibrant - Awesome!Do you...   \n",
       "2  Our client, located in Houston, is actively se...   \n",
       "3  THE COMPANY: ESRI – Environmental Systems Rese...   \n",
       "4  JOB TITLE: Itemization Review ManagerLOCATION:...   \n",
       "\n",
       "                                        requirements  \\\n",
       "0  Experience with content management systems a m...   \n",
       "1  What we expect from you:Your key responsibilit...   \n",
       "2  Implement pre-commissioning and commissioning ...   \n",
       "3  EDUCATION: Bachelor’s or Master’s in GIS, busi...   \n",
       "4  QUALIFICATIONS:RN license in the State of Texa...   \n",
       "\n",
       "                                            benefits has_questions  \\\n",
       "0                                                                0   \n",
       "1  What you will get from usThrough being part of...             0   \n",
       "2                                                                0   \n",
       "3  Our culture is anything but corporate—we have ...             0   \n",
       "4                              Full Benefits Offered             1   \n",
       "\n",
       "  employment_type required_experience required_education  fraudulent  \\\n",
       "0           Other          Internship                              0   \n",
       "1       Full-time      Not Applicable                              0   \n",
       "2                                                                  0   \n",
       "3       Full-time    Mid-Senior level  Bachelor's Degree           0   \n",
       "4       Full-time    Mid-Senior level  Bachelor's Degree           0   \n",
       "\n",
       "                                                text  \n",
       "0  Marketing Intern - US - We're Food52, and we'v...  \n",
       "1  Customer Service - Cloud Video Production - NZ...  \n",
       "2  Commissioning Machinery Assistant (CMA) - US -...  \n",
       "3  Account Executive - Washington DC - US - Our p...  \n",
       "4  Bill Review Manager - US - SpotSource Solution...  "
      ]
     },
     "execution_count": 63,
     "metadata": {},
     "output_type": "execute_result"
    }
   ],
   "source": [
    "clean_job_data.head()"
   ]
  },
  {
   "cell_type": "markdown",
   "id": "702224d9",
   "metadata": {},
   "source": [
    "## Checking Label Column Value Distribution"
   ]
  },
  {
   "cell_type": "code",
   "execution_count": 64,
   "id": "45c1a97d",
   "metadata": {},
   "outputs": [
    {
     "data": {
      "text/plain": [
       "0    17014\n",
       "1      866\n",
       "Name: fraudulent, dtype: int64"
      ]
     },
     "execution_count": 64,
     "metadata": {},
     "output_type": "execute_result"
    }
   ],
   "source": [
    "# Checking value on Fraudulent column\n",
    "clean_job_data['fraudulent'].value_counts()"
   ]
  },
  {
   "cell_type": "markdown",
   "id": "0781dd34",
   "metadata": {},
   "source": [
    "0 $\\longrightarrow$ True Job Offer  \n",
    "1 $\\longrightarrow$ Fake Job Offer"
   ]
  },
  {
   "cell_type": "markdown",
   "id": "503d560d",
   "metadata": {},
   "source": [
    "## Separating Features and Label"
   ]
  },
  {
   "cell_type": "code",
   "execution_count": 65,
   "id": "a5f95106",
   "metadata": {},
   "outputs": [],
   "source": [
    "X = clean_job_data['text']\n",
    "Y = clean_job_data['fraudulent']"
   ]
  },
  {
   "cell_type": "code",
   "execution_count": 66,
   "id": "bc8ea095",
   "metadata": {},
   "outputs": [
    {
     "name": "stdout",
     "output_type": "stream",
     "text": [
      "0        Marketing Intern - US - We're Food52, and we'v...\n",
      "1        Customer Service - Cloud Video Production - NZ...\n",
      "2        Commissioning Machinery Assistant (CMA) - US -...\n",
      "3        Account Executive - Washington DC - US - Our p...\n",
      "4        Bill Review Manager - US - SpotSource Solution...\n",
      "                               ...                        \n",
      "17875    Account Director - Distribution  - CA - Vend i...\n",
      "17876    Payroll Accountant - US - WebLinc is the e-com...\n",
      "17877    Project Cost Control Staff Engineer - Cost Con...\n",
      "17878    Graphic Designer - NG -  - Nemsia Studios is l...\n",
      "17879    Web Application Developers - NZ - Vend is look...\n",
      "Name: text, Length: 17880, dtype: object\n"
     ]
    }
   ],
   "source": [
    "print(X)"
   ]
  },
  {
   "cell_type": "code",
   "execution_count": 67,
   "id": "00a72ac2",
   "metadata": {},
   "outputs": [
    {
     "name": "stdout",
     "output_type": "stream",
     "text": [
      "0        0\n",
      "1        0\n",
      "2        0\n",
      "3        0\n",
      "4        0\n",
      "        ..\n",
      "17875    0\n",
      "17876    0\n",
      "17877    0\n",
      "17878    0\n",
      "17879    0\n",
      "Name: fraudulent, Length: 17880, dtype: int64\n"
     ]
    }
   ],
   "source": [
    "print(Y)"
   ]
  },
  {
   "cell_type": "markdown",
   "id": "b1930f12",
   "metadata": {},
   "source": [
    "## Splitting into train and test data"
   ]
  },
  {
   "cell_type": "code",
   "execution_count": 68,
   "id": "e6c251e2",
   "metadata": {},
   "outputs": [],
   "source": [
    "X_train, X_test, Y_train, Y_test = train_test_split(X, Y, test_size=0.2, random_state=2, stratify=Y)"
   ]
  },
  {
   "cell_type": "code",
   "execution_count": 69,
   "id": "732763d3",
   "metadata": {},
   "outputs": [
    {
     "name": "stdout",
     "output_type": "stream",
     "text": [
      "(17880,) (14304,) (3576,)\n"
     ]
    }
   ],
   "source": [
    "print(X.shape, X_train.shape, X_test.shape)"
   ]
  },
  {
   "cell_type": "code",
   "execution_count": 70,
   "id": "24dd96d2",
   "metadata": {},
   "outputs": [
    {
     "name": "stdout",
     "output_type": "stream",
     "text": [
      "4.8434004474272925 4.844798657718121 4.837807606263982\n"
     ]
    }
   ],
   "source": [
    "# Checking porcentages of false offers on train and test and original set. The stratify worked well.\n",
    "print(Y.value_counts()[1] / Y.shape[0] * 100, Y_train.value_counts()[1] / Y_train.shape[0] * 100,  Y_test.value_counts()[1] / Y_test.shape[0] * 100)"
   ]
  },
  {
   "cell_type": "markdown",
   "id": "2b11787d",
   "metadata": {},
   "source": [
    "## Feature Extraction"
   ]
  },
  {
   "cell_type": "code",
   "execution_count": 71,
   "id": "365fbb92",
   "metadata": {},
   "outputs": [],
   "source": [
    "# Transform the text data to feature vectors that can be used as input to the logistic regression model\n",
    "feature_extraction = TfidfVectorizer(min_df=1, stop_words='english', lowercase=True)"
   ]
  },
  {
   "cell_type": "code",
   "execution_count": 72,
   "id": "52e42de7",
   "metadata": {},
   "outputs": [],
   "source": [
    "X_train_features = feature_extraction.fit_transform(X_train)"
   ]
  },
  {
   "cell_type": "code",
   "execution_count": 73,
   "id": "a3852b84",
   "metadata": {},
   "outputs": [],
   "source": [
    "X_test_features = feature_extraction.transform(X_test)"
   ]
  },
  {
   "cell_type": "code",
   "execution_count": 74,
   "id": "3cf1fce1",
   "metadata": {},
   "outputs": [
    {
     "name": "stdout",
     "output_type": "stream",
     "text": [
      "  (0, 8234)\t0.014734757409852492\n",
      "  (0, 7219)\t0.01924431474006488\n",
      "  (0, 61014)\t0.022542582944754877\n",
      "  (0, 7157)\t0.02827633913423761\n",
      "  (0, 54324)\t0.01893656277664071\n",
      "  (0, 1210)\t0.032522105634496326\n",
      "  (0, 71099)\t0.028062161608947343\n",
      "  (0, 51625)\t0.017956469674083493\n",
      "  (0, 68875)\t0.035179037500392626\n",
      "  (0, 2504)\t0.051820605078989605\n",
      "  (0, 73807)\t0.0334801357210345\n",
      "  (0, 31479)\t0.021197803710340038\n",
      "  (0, 85952)\t0.020743958199954574\n",
      "  (0, 59260)\t0.04170679019013523\n",
      "  (0, 26016)\t0.018159703315203855\n",
      "  (0, 54125)\t0.022398486441750135\n",
      "  (0, 57473)\t0.018920308388946566\n",
      "  (0, 12934)\t0.02869244794773342\n",
      "  (0, 12730)\t0.06010212843900789\n",
      "  (0, 65509)\t0.06117662343572307\n",
      "  (0, 43578)\t0.027643128310565937\n",
      "  (0, 2299)\t0.04366479782323314\n",
      "  (0, 64310)\t0.040714060589611634\n",
      "  (0, 43608)\t0.04312137312773858\n",
      "  (0, 12928)\t0.044152438575253285\n",
      "  :\t:\n",
      "  (14303, 26004)\t0.046729657080594844\n",
      "  (14303, 47005)\t0.02314745501558671\n",
      "  (14303, 50197)\t0.01912787590284715\n",
      "  (14303, 51710)\t0.01690150686537308\n",
      "  (14303, 8660)\t0.014281419575608774\n",
      "  (14303, 58188)\t0.046988759294734006\n",
      "  (14303, 80162)\t0.01753319337853378\n",
      "  (14303, 75900)\t0.04295303340228235\n",
      "  (14303, 54666)\t0.024598733351288763\n",
      "  (14303, 11209)\t0.03842953857100149\n",
      "  (14303, 44367)\t0.020213860985735833\n",
      "  (14303, 15629)\t0.1293909764321908\n",
      "  (14303, 26794)\t0.025433763829881297\n",
      "  (14303, 69986)\t0.028151220777575658\n",
      "  (14303, 38140)\t0.022074562549874787\n",
      "  (14303, 70364)\t0.014438283633104157\n",
      "  (14303, 60581)\t0.035030083083899224\n",
      "  (14303, 23421)\t0.026754096310802406\n",
      "  (14303, 62062)\t0.015106197875471697\n",
      "  (14303, 63356)\t0.023360233352458765\n",
      "  (14303, 38162)\t0.023612602980909034\n",
      "  (14303, 35802)\t0.013297531626638931\n",
      "  (14303, 45134)\t0.013543946936430176\n",
      "  (14303, 20617)\t0.2048849021835485\n",
      "  (14303, 74177)\t0.034834805062160745\n"
     ]
    }
   ],
   "source": [
    "print(X_train_features)"
   ]
  },
  {
   "cell_type": "markdown",
   "id": "5f1b8935",
   "metadata": {},
   "source": [
    "## Training Logistic Regression Model"
   ]
  },
  {
   "cell_type": "code",
   "execution_count": 75,
   "id": "ce854252",
   "metadata": {},
   "outputs": [],
   "source": [
    "model = LogisticRegression(C=2.5)"
   ]
  },
  {
   "cell_type": "code",
   "execution_count": 76,
   "id": "6051ac20",
   "metadata": {},
   "outputs": [
    {
     "data": {
      "text/html": [
       "<style>#sk-container-id-2 {color: black;background-color: white;}#sk-container-id-2 pre{padding: 0;}#sk-container-id-2 div.sk-toggleable {background-color: white;}#sk-container-id-2 label.sk-toggleable__label {cursor: pointer;display: block;width: 100%;margin-bottom: 0;padding: 0.3em;box-sizing: border-box;text-align: center;}#sk-container-id-2 label.sk-toggleable__label-arrow:before {content: \"▸\";float: left;margin-right: 0.25em;color: #696969;}#sk-container-id-2 label.sk-toggleable__label-arrow:hover:before {color: black;}#sk-container-id-2 div.sk-estimator:hover label.sk-toggleable__label-arrow:before {color: black;}#sk-container-id-2 div.sk-toggleable__content {max-height: 0;max-width: 0;overflow: hidden;text-align: left;background-color: #f0f8ff;}#sk-container-id-2 div.sk-toggleable__content pre {margin: 0.2em;color: black;border-radius: 0.25em;background-color: #f0f8ff;}#sk-container-id-2 input.sk-toggleable__control:checked~div.sk-toggleable__content {max-height: 200px;max-width: 100%;overflow: auto;}#sk-container-id-2 input.sk-toggleable__control:checked~label.sk-toggleable__label-arrow:before {content: \"▾\";}#sk-container-id-2 div.sk-estimator input.sk-toggleable__control:checked~label.sk-toggleable__label {background-color: #d4ebff;}#sk-container-id-2 div.sk-label input.sk-toggleable__control:checked~label.sk-toggleable__label {background-color: #d4ebff;}#sk-container-id-2 input.sk-hidden--visually {border: 0;clip: rect(1px 1px 1px 1px);clip: rect(1px, 1px, 1px, 1px);height: 1px;margin: -1px;overflow: hidden;padding: 0;position: absolute;width: 1px;}#sk-container-id-2 div.sk-estimator {font-family: monospace;background-color: #f0f8ff;border: 1px dotted black;border-radius: 0.25em;box-sizing: border-box;margin-bottom: 0.5em;}#sk-container-id-2 div.sk-estimator:hover {background-color: #d4ebff;}#sk-container-id-2 div.sk-parallel-item::after {content: \"\";width: 100%;border-bottom: 1px solid gray;flex-grow: 1;}#sk-container-id-2 div.sk-label:hover label.sk-toggleable__label {background-color: #d4ebff;}#sk-container-id-2 div.sk-serial::before {content: \"\";position: absolute;border-left: 1px solid gray;box-sizing: border-box;top: 0;bottom: 0;left: 50%;z-index: 0;}#sk-container-id-2 div.sk-serial {display: flex;flex-direction: column;align-items: center;background-color: white;padding-right: 0.2em;padding-left: 0.2em;position: relative;}#sk-container-id-2 div.sk-item {position: relative;z-index: 1;}#sk-container-id-2 div.sk-parallel {display: flex;align-items: stretch;justify-content: center;background-color: white;position: relative;}#sk-container-id-2 div.sk-item::before, #sk-container-id-2 div.sk-parallel-item::before {content: \"\";position: absolute;border-left: 1px solid gray;box-sizing: border-box;top: 0;bottom: 0;left: 50%;z-index: -1;}#sk-container-id-2 div.sk-parallel-item {display: flex;flex-direction: column;z-index: 1;position: relative;background-color: white;}#sk-container-id-2 div.sk-parallel-item:first-child::after {align-self: flex-end;width: 50%;}#sk-container-id-2 div.sk-parallel-item:last-child::after {align-self: flex-start;width: 50%;}#sk-container-id-2 div.sk-parallel-item:only-child::after {width: 0;}#sk-container-id-2 div.sk-dashed-wrapped {border: 1px dashed gray;margin: 0 0.4em 0.5em 0.4em;box-sizing: border-box;padding-bottom: 0.4em;background-color: white;}#sk-container-id-2 div.sk-label label {font-family: monospace;font-weight: bold;display: inline-block;line-height: 1.2em;}#sk-container-id-2 div.sk-label-container {text-align: center;}#sk-container-id-2 div.sk-container {/* jupyter's `normalize.less` sets `[hidden] { display: none; }` but bootstrap.min.css set `[hidden] { display: none !important; }` so we also need the `!important` here to be able to override the default hidden behavior on the sphinx rendered scikit-learn.org. See: https://github.com/scikit-learn/scikit-learn/issues/21755 */display: inline-block !important;position: relative;}#sk-container-id-2 div.sk-text-repr-fallback {display: none;}</style><div id=\"sk-container-id-2\" class=\"sk-top-container\"><div class=\"sk-text-repr-fallback\"><pre>LogisticRegression(C=2.5)</pre><b>In a Jupyter environment, please rerun this cell to show the HTML representation or trust the notebook. <br />On GitHub, the HTML representation is unable to render, please try loading this page with nbviewer.org.</b></div><div class=\"sk-container\" hidden><div class=\"sk-item\"><div class=\"sk-estimator sk-toggleable\"><input class=\"sk-toggleable__control sk-hidden--visually\" id=\"sk-estimator-id-2\" type=\"checkbox\" checked><label for=\"sk-estimator-id-2\" class=\"sk-toggleable__label sk-toggleable__label-arrow\">LogisticRegression</label><div class=\"sk-toggleable__content\"><pre>LogisticRegression(C=2.5)</pre></div></div></div></div></div>"
      ],
      "text/plain": [
       "LogisticRegression(C=2.5)"
      ]
     },
     "execution_count": 76,
     "metadata": {},
     "output_type": "execute_result"
    }
   ],
   "source": [
    "# Training the logistic regression model with training data (features_data)\n",
    "model.fit(X_train_features, Y_train)"
   ]
  },
  {
   "cell_type": "markdown",
   "id": "f84ed9ab",
   "metadata": {},
   "source": [
    "## Evaluating the model"
   ]
  },
  {
   "cell_type": "code",
   "execution_count": 77,
   "id": "9813b2e7",
   "metadata": {},
   "outputs": [],
   "source": [
    "# Prediction on training data\n",
    "prediction_on_training_data = model.predict(X_train_features)\n",
    "accuracy_on_training_data = accuracy_score(Y_train, prediction_on_training_data)\n",
    "precision_on_training_data = precision_score(Y_train, prediction_on_training_data)\n",
    "recall_on_training_data = recall_score(Y_train, prediction_on_training_data)\n",
    "f1_on_training_data = f1_score(Y_train, prediction_on_training_data)"
   ]
  },
  {
   "cell_type": "code",
   "execution_count": 78,
   "id": "0efdff29",
   "metadata": {},
   "outputs": [
    {
     "name": "stdout",
     "output_type": "stream",
     "text": [
      "Accuracy on training data is 0.9852488814317674\n",
      "Precision on training data is 0.9979338842975206\n",
      "Recall on training data is 0.696969696969697\n",
      "F1 Score on training data is 0.696969696969697\n"
     ]
    }
   ],
   "source": [
    "print(f\"Accuracy on training data is {accuracy_on_training_data}\")\n",
    "print(f\"Precision on training data is {precision_on_training_data}\")\n",
    "print(f\"Recall on training data is {recall_on_training_data}\")\n",
    "print(f\"F1 Score on training data is {recall_on_training_data}\")"
   ]
  },
  {
   "cell_type": "code",
   "execution_count": 79,
   "id": "d5049f2c",
   "metadata": {},
   "outputs": [],
   "source": [
    "# Prediction on test data\n",
    "prediction_on_test_data = model.predict(X_test_features)\n",
    "accuracy_on_test_data = accuracy_score(Y_test, prediction_on_test_data)\n",
    "precision_on_test_data = precision_score(Y_test, prediction_on_test_data)\n",
    "recall_on_test_data = recall_score(Y_test, prediction_on_test_data)\n",
    "f1_on_test_data = f1_score(Y_test, prediction_on_test_data)"
   ]
  },
  {
   "cell_type": "code",
   "execution_count": 80,
   "id": "b7df4f95",
   "metadata": {},
   "outputs": [
    {
     "name": "stdout",
     "output_type": "stream",
     "text": [
      "Accuracy on test data is 0.9804250559284117\n",
      "Precision on test data is 0.9904761904761905\n",
      "Recall on test data is 0.6011560693641619\n",
      "F1 Score on test data is 0.6011560693641619\n"
     ]
    }
   ],
   "source": [
    "print(f\"Accuracy on test data is {accuracy_on_test_data}\")\n",
    "print(f\"Precision on test data is {precision_on_test_data}\")\n",
    "print(f\"Recall on test data is {recall_on_test_data}\")\n",
    "print(f\"F1 Score on test data is {recall_on_test_data}\")"
   ]
  },
  {
   "cell_type": "code",
   "execution_count": 81,
   "id": "1695fa2a",
   "metadata": {},
   "outputs": [],
   "source": [
    "cf_matrix = confusion_matrix(Y_test, prediction_on_test_data)"
   ]
  },
  {
   "cell_type": "code",
   "execution_count": 82,
   "id": "5ce65d6e",
   "metadata": {},
   "outputs": [
    {
     "data": {
      "image/png": "[encoded data removed]",
      "text/plain": [
       "<Figure size 640x480 with 2 Axes>"
      ]
     },
     "metadata": {},
     "output_type": "display_data"
    }
   ],
   "source": [
    "sns.heatmap(cf_matrix, annot=True, fmt=\"g\")\n",
    "plt.xlabel('Predicted value')\n",
    "plt.ylabel('True value')\n",
    "plt.show()"
   ]
  },
  {
   "cell_type": "markdown",
   "id": "ac0f4ea5",
   "metadata": {},
   "source": [
    "0 $\\longrightarrow$ True Job Offer  \n",
    "1 $\\longrightarrow$ Fake Job Offer"
   ]
  },
  {
   "cell_type": "markdown",
   "id": "8eae0d1e",
   "metadata": {},
   "source": [
    "**Metrics are very similar, which means no overfitting.**  \n",
    "**Out of 173 fake job offers in the test data, 104 are correctly classified as such.**  \n",
    "**In this case 60% of F1 Score will be considered acceptable.**"
   ]
  },
  {
   "cell_type": "markdown",
   "id": "5d45fe26",
   "metadata": {},
   "source": [
    "## Predictive System"
   ]
  },
  {
   "cell_type": "code",
   "execution_count": 83,
   "id": "8aca222b",
   "metadata": {},
   "outputs": [
    {
     "name": "stdout",
     "output_type": "stream",
     "text": [
      "job_id                                                                 1\n",
      "title                                                   Marketing Intern\n",
      "location                                                US, NY, New York\n",
      "department                                                     Marketing\n",
      "salary_range                                                         NaN\n",
      "company_profile        We're Food52, and we've created a groundbreaki...\n",
      "description            Food52, a fast-growing, James Beard Award-winn...\n",
      "requirements           Experience with content management systems a m...\n",
      "benefits                                                             NaN\n",
      "telecommuting                                                          0\n",
      "has_company_logo                                                       1\n",
      "has_questions                                                          0\n",
      "employment_type                                                    Other\n",
      "required_experience                                           Internship\n",
      "required_education                                                   NaN\n",
      "industry                                                             NaN\n",
      "function                                                       Marketing\n",
      "fraudulent                                                             0\n",
      "Name: 0, dtype: object\n"
     ]
    }
   ],
   "source": [
    "# Test for 0\n",
    "input_offer = job_data.iloc[0, :]\n",
    "print(input_offer)\n",
    "# Test for 1\n",
    "#input_offer = job_data.iloc[98, :]\n",
    "# Dropping columns (use labels in panda Series)\n",
    "input_offer_filtered = input_offer.drop(labels=['job_id', 'department', 'salary_range', 'telecommuting', 'has_company_logo', 'industry', 'function'])\n",
    "# Removing NaN\n",
    "input_offer_filtered = input_offer_filtered.where((pd.notnull(input_offer_filtered)), '')\n",
    "# Getting the country\n",
    "input_offer_filtered['location'] = get_country(input_offer_filtered['location'])\n",
    "# has_questions to string\n",
    "input_offer_filtered['has_questions'] = str(input_offer_filtered['has_questions'])\n",
    "# Creating text column\n",
    "input_offer_filtered['text'] = input_offer_filtered['title'] + ' - ' + input_offer_filtered['location'] + ' - ' + input_offer_filtered['company_profile'] + ' - ' + input_offer_filtered['description'] + ' - ' + input_offer_filtered['requirements'] +  ' - ' + input_offer_filtered['benefits'] + ' - ' + input_offer_filtered['has_questions'] + ' - ' + input_offer_filtered['employment_type'] + ' - ' + input_offer_filtered['required_experience'] + ' - ' + input_offer_filtered['required_education']\n"
   ]
  },
  {
   "cell_type": "code",
   "execution_count": 84,
   "id": "4e5d3bec",
   "metadata": {},
   "outputs": [],
   "source": [
    "# Prediction features\n",
    "X_prediction_features = feature_extraction.transform([input_offer_filtered['text']])"
   ]
  },
  {
   "cell_type": "code",
   "execution_count": 85,
   "id": "75b2d38f",
   "metadata": {},
   "outputs": [],
   "source": [
    "prediction = model.predict(X_prediction_features)"
   ]
  },
  {
   "cell_type": "code",
   "execution_count": 86,
   "id": "a5ad4e7c",
   "metadata": {},
   "outputs": [
    {
     "name": "stdout",
     "output_type": "stream",
     "text": [
      "True job offer\n"
     ]
    }
   ],
   "source": [
    "if prediction[0] == 0:\n",
    "    print(\"True job offer\")\n",
    "else:\n",
    "    print(\"Fake job offer\")"
   ]
  },
  {
   "cell_type": "markdown",
   "id": "bf089abb",
   "metadata": {},
   "source": [
    "## Files for Django App"
   ]
  },
  {
   "cell_type": "code",
   "execution_count": 87,
   "id": "a8caeced",
   "metadata": {},
   "outputs": [
    {
     "data": {
      "text/plain": [
       "['US',\n",
       " 'NZ',\n",
       " 'DE',\n",
       " 'GB',\n",
       " 'AU',\n",
       " 'SG',\n",
       " 'IL',\n",
       " 'AE',\n",
       " 'CA',\n",
       " 'IN',\n",
       " 'EG',\n",
       " 'PL',\n",
       " 'GR',\n",
       " '',\n",
       " 'PK',\n",
       " 'BE',\n",
       " 'BR',\n",
       " 'SA',\n",
       " 'DK',\n",
       " 'RU',\n",
       " 'ZA',\n",
       " 'CY',\n",
       " 'HK',\n",
       " 'TR',\n",
       " 'IE',\n",
       " 'LT',\n",
       " 'JP',\n",
       " 'NL',\n",
       " 'AT',\n",
       " 'KR',\n",
       " 'FR',\n",
       " 'EE',\n",
       " 'TH',\n",
       " 'PA',\n",
       " 'KE',\n",
       " 'MU',\n",
       " 'MX',\n",
       " 'RO',\n",
       " 'MY',\n",
       " 'FI',\n",
       " 'CN',\n",
       " 'ES',\n",
       " 'SE',\n",
       " 'CL',\n",
       " 'UA',\n",
       " 'QA',\n",
       " 'IT',\n",
       " 'LV',\n",
       " 'IQ',\n",
       " 'BG',\n",
       " 'PH',\n",
       " 'CZ',\n",
       " 'VI',\n",
       " 'MT',\n",
       " 'HU',\n",
       " 'BD',\n",
       " 'KW',\n",
       " 'LU',\n",
       " 'NG',\n",
       " 'RS',\n",
       " 'BY',\n",
       " 'VN',\n",
       " 'ID',\n",
       " 'ZM',\n",
       " 'NO',\n",
       " 'BH',\n",
       " 'UG',\n",
       " 'CH',\n",
       " 'TT',\n",
       " 'SD',\n",
       " 'SK',\n",
       " 'AR',\n",
       " 'TW',\n",
       " 'PT',\n",
       " 'PE',\n",
       " 'CO',\n",
       " 'IS',\n",
       " 'SI',\n",
       " 'MA',\n",
       " 'AM',\n",
       " 'TN',\n",
       " 'GH',\n",
       " 'AL',\n",
       " 'HR',\n",
       " 'CM',\n",
       " 'SV',\n",
       " 'NI',\n",
       " 'LK',\n",
       " 'JM',\n",
       " 'KZ',\n",
       " 'KH']"
      ]
     },
     "execution_count": 87,
     "metadata": {},
     "output_type": "execute_result"
    }
   ],
   "source": [
    "# List of possible countries from dataframe\n",
    "clean_job_data['location'].unique().tolist()"
   ]
  },
  {
   "cell_type": "code",
   "execution_count": 88,
   "id": "6fe6b5ec",
   "metadata": {},
   "outputs": [
    {
     "name": "stdout",
     "output_type": "stream",
     "text": [
      "['US' 'NZ' 'DE' 'GB' 'AU' 'SG' 'IL' 'AE' 'CA' 'IN' 'EG' 'PL' 'GR'\n",
      " 'UNKNOWN/OTHER' 'PK' 'BE' 'BR' 'SA' 'DK' 'RU' 'ZA' 'CY' 'HK' 'TR' 'IE'\n",
      " 'LT' 'JP' 'NL' 'AT' 'KR' 'FR' 'EE' 'TH' 'PA' 'KE' 'MU' 'MX' 'RO' 'MY'\n",
      " 'FI' 'CN' 'ES' 'SE' 'CL' 'UA' 'QA' 'IT' 'LV' 'IQ' 'BG' 'PH' 'CZ' 'VI'\n",
      " 'MT' 'HU' 'BD' 'KW' 'LU' 'NG' 'RS' 'BY' 'VN' 'ID' 'ZM' 'NO' 'BH' 'UG'\n",
      " 'CH' 'TT' 'SD' 'SK' 'AR' 'TW' 'PT' 'PE' 'CO' 'IS' 'SI' 'MA' 'AM' 'TN'\n",
      " 'GH' 'AL' 'HR' 'CM' 'SV' 'NI' 'LK' 'JM' 'KZ' 'KH']\n"
     ]
    }
   ],
   "source": [
    "# replacing empty string with UNKNOWN/OTHER\n",
    "possible_countries = np.where(clean_job_data['location'].unique() == \"\", \"UNKNOWN/OTHER\", clean_job_data['location'].unique())\n",
    "print(possible_countries)"
   ]
  },
  {
   "cell_type": "code",
   "execution_count": 89,
   "id": "733c7bd5",
   "metadata": {},
   "outputs": [
    {
     "name": "stdout",
     "output_type": "stream",
     "text": [
      "['US', 'NZ', 'DE', 'GB', 'AU', 'SG', 'IL', 'AE', 'CA', 'IN', 'EG', 'PL', 'GR', 'UNKNOWN/OTHER', 'PK', 'BE', 'BR', 'SA', 'DK', 'RU', 'ZA', 'CY', 'HK', 'TR', 'IE', 'LT', 'JP', 'NL', 'AT', 'KR', 'FR', 'EE', 'TH', 'PA', 'KE', 'MU', 'MX', 'RO', 'MY', 'FI', 'CN', 'ES', 'SE', 'CL', 'UA', 'QA', 'IT', 'LV', 'IQ', 'BG', 'PH', 'CZ', 'VI', 'MT', 'HU', 'BD', 'KW', 'LU', 'NG', 'RS', 'BY', 'VN', 'ID', 'ZM', 'NO', 'BH', 'UG', 'CH', 'TT', 'SD', 'SK', 'AR', 'TW', 'PT', 'PE', 'CO', 'IS', 'SI', 'MA', 'AM', 'TN', 'GH', 'AL', 'HR', 'CM', 'SV', 'NI', 'LK', 'JM', 'KZ', 'KH']\n"
     ]
    }
   ],
   "source": [
    "# converting to list\n",
    "possible_countries_as_list = possible_countries.tolist()\n",
    "print(possible_countries_as_list)"
   ]
  },
  {
   "cell_type": "code",
   "execution_count": 90,
   "id": "e507fede",
   "metadata": {},
   "outputs": [
    {
     "data": {
      "text/plain": [
       "array(['Other', 'Full-time', '', 'Part-time', 'Contract', 'Temporary'],\n",
       "      dtype=object)"
      ]
     },
     "execution_count": 90,
     "metadata": {},
     "output_type": "execute_result"
    }
   ],
   "source": [
    "# Possible employment types\n",
    "clean_job_data['employment_type'].unique()"
   ]
  },
  {
   "cell_type": "code",
   "execution_count": 91,
   "id": "c86a713b",
   "metadata": {},
   "outputs": [],
   "source": [
    "# Replacing empty string\n",
    "possible_employment_types = np.where(clean_job_data['employment_type'].unique() == \"\", \"UNKNOWN\", clean_job_data['employment_type'].unique())"
   ]
  },
  {
   "cell_type": "code",
   "execution_count": 92,
   "id": "1a22bdc8",
   "metadata": {},
   "outputs": [
    {
     "name": "stdout",
     "output_type": "stream",
     "text": [
      "['Other', 'Full-time', 'UNKNOWN', 'Part-time', 'Contract', 'Temporary']\n"
     ]
    }
   ],
   "source": [
    "possible_employment_types_as_list = possible_employment_types.tolist()\n",
    "print(possible_employment_types_as_list)"
   ]
  },
  {
   "cell_type": "code",
   "execution_count": 93,
   "id": "2209a5a9",
   "metadata": {},
   "outputs": [],
   "source": [
    "# Possible required experience"
   ]
  },
  {
   "cell_type": "code",
   "execution_count": 94,
   "id": "c3282a32",
   "metadata": {},
   "outputs": [
    {
     "data": {
      "text/plain": [
       "array(['Internship', 'Not Applicable', '', 'Mid-Senior level',\n",
       "       'Associate', 'Entry level', 'Executive', 'Director'], dtype=object)"
      ]
     },
     "execution_count": 94,
     "metadata": {},
     "output_type": "execute_result"
    }
   ],
   "source": [
    "clean_job_data['required_experience'].unique()"
   ]
  },
  {
   "cell_type": "code",
   "execution_count": 95,
   "id": "37189d1b",
   "metadata": {},
   "outputs": [],
   "source": [
    "# Replacing empty string\n",
    "possible_required_experience = np.where(clean_job_data['required_experience'].unique() == \"\", \"UNKNOWN/OTHER\", clean_job_data['required_experience'].unique())"
   ]
  },
  {
   "cell_type": "code",
   "execution_count": 96,
   "id": "0bf8257d",
   "metadata": {},
   "outputs": [
    {
     "name": "stdout",
     "output_type": "stream",
     "text": [
      "['Internship', 'Not Applicable', 'UNKNOWN/OTHER', 'Mid-Senior level', 'Associate', 'Entry level', 'Executive', 'Director']\n"
     ]
    }
   ],
   "source": [
    "possible_required_experience_as_list = possible_required_experience.tolist()\n",
    "print(possible_required_experience_as_list)"
   ]
  },
  {
   "cell_type": "code",
   "execution_count": 97,
   "id": "0968a577",
   "metadata": {},
   "outputs": [
    {
     "data": {
      "text/plain": [
       "array(['', \"Bachelor's Degree\", \"Master's Degree\",\n",
       "       'High School or equivalent', 'Unspecified',\n",
       "       'Some College Coursework Completed', 'Vocational', 'Certification',\n",
       "       'Associate Degree', 'Professional', 'Doctorate',\n",
       "       'Some High School Coursework', 'Vocational - Degree',\n",
       "       'Vocational - HS Diploma'], dtype=object)"
      ]
     },
     "execution_count": 97,
     "metadata": {},
     "output_type": "execute_result"
    }
   ],
   "source": [
    "# Possible required education\n",
    "clean_job_data['required_education'].unique()"
   ]
  },
  {
   "cell_type": "code",
   "execution_count": 98,
   "id": "fdae3c6f",
   "metadata": {},
   "outputs": [],
   "source": [
    "# Replacing empty string\n",
    "possible_required_education = np.where(clean_job_data['required_education'].unique() == \"\", \"UNKNOWN/OTHER\", clean_job_data['required_education'].unique())"
   ]
  },
  {
   "cell_type": "code",
   "execution_count": 99,
   "id": "6daec9ec",
   "metadata": {},
   "outputs": [
    {
     "name": "stdout",
     "output_type": "stream",
     "text": [
      "['UNKNOWN/OTHER', \"Bachelor's Degree\", \"Master's Degree\", 'High School or equivalent', 'Unspecified', 'Some College Coursework Completed', 'Vocational', 'Certification', 'Associate Degree', 'Professional', 'Doctorate', 'Some High School Coursework', 'Vocational - Degree', 'Vocational - HS Diploma']\n"
     ]
    }
   ],
   "source": [
    "possible_required_education_as_list = possible_required_education.tolist()\n",
    "print(possible_required_education_as_list)"
   ]
  },
  {
   "cell_type": "code",
   "execution_count": 100,
   "id": "874d8c2f",
   "metadata": {},
   "outputs": [],
   "source": [
    "form_input_data = {\n",
    "    'possible_locations': possible_countries_as_list,\n",
    "    'possible_employment_types': possible_employment_types_as_list,\n",
    "    'possible_required_experience': possible_required_experience_as_list,\n",
    "    'possible_required_education': possible_required_education_as_list\n",
    "}"
   ]
  },
  {
   "cell_type": "code",
   "execution_count": 101,
   "id": "f405df51",
   "metadata": {},
   "outputs": [],
   "source": [
    "pd.to_pickle(form_input_data,'form_input_data.pickle')"
   ]
  },
  {
   "cell_type": "code",
   "execution_count": 102,
   "id": "a81da6e5",
   "metadata": {},
   "outputs": [],
   "source": [
    "pd.to_pickle(model,'prediction_model.pickle')"
   ]
  },
  {
   "cell_type": "code",
   "execution_count": 103,
   "id": "ed16db30",
   "metadata": {},
   "outputs": [],
   "source": [
    "pd.to_pickle(feature_extraction, 'feature_extraction.pickle')"
   ]
  },
  {
   "cell_type": "code",
   "execution_count": 104,
   "id": "ff85a655",
   "metadata": {},
   "outputs": [],
   "source": [
    "# csv with semicolon for easier testing\n",
    "job_data.to_csv(sep=';', path_or_buf='dataset/fake_job_data_semicolon.csv')"
   ]
  },
  {
   "cell_type": "code",
   "execution_count": null,
   "id": "dea73c20",
   "metadata": {},
   "outputs": [],
   "source": []
  }
 ],
 "metadata": {
  "kernelspec": {
   "display_name": "Python 3 (ipykernel)",
   "language": "python",
   "name": "python3"
  },
  "language_info": {
   "codemirror_mode": {
    "name": "ipython",
    "version": 3
   },
   "file_extension": ".py",
   "mimetype": "text/x-python",
   "name": "python",
   "nbconvert_exporter": "python",
   "pygments_lexer": "ipython3",
   "version": "3.9.11"
  }
 },
 "nbformat": 4,
 "nbformat_minor": 5
}
