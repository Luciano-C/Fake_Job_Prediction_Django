{
 "cells": [
  {
   "cell_type": "markdown",
   "id": "bf8537ff",
   "metadata": {},
   "source": [
    "**job_id**: Unique Job ID  \n",
    "**title**: The title of the job ad entry  \n",
    "**location**: Geographical location of the job ad  \n",
    "**department**: Corporate department (e.g. sales)  \n",
    "**salary_range**: Indicative salary range (e.g. \\\\$50,000-\\\\$60,000)  \n",
    "**company_profile**: A brief company description  \n",
    "**description**: The details description of the job ad  \n",
    "**requirements**: Enlisted requirements for the job opening  \n",
    "**benefits**: Enlisted offered benefits by the employer  \n",
    "**telecommuting**: True for telecommuting positions  \n",
    "**hascompanylogo**: True if company logo is present  \n",
    "**has_questions**: True if screening questions are present  \n",
    "**employment_type**: Full-type, Part-time, Contract, etc  \n",
    "**required_experience**: Executive, Entry level, Intern, etc  \n",
    "**required_education**: Doctorate, Master’s Degree, Bachelor, etc  \n",
    "**industry**: Automotive, IT, Health care, Real estate, etc  \n",
    "**function**: Consulting, Engineering, Research, Sales etc  \n",
    "**fraudulent**: target - Classification attribute  "
   ]
  },
  {
   "cell_type": "code",
   "execution_count": 1,
   "id": "431fccf8",
   "metadata": {},
   "outputs": [],
   "source": [
    "import numpy as np\n",
    "import pandas as pd\n",
    "from sklearn.model_selection import train_test_split\n",
    "from sklearn.feature_extraction.text import TfidfVectorizer\n",
    "from sklearn.linear_model import LogisticRegression\n",
    "from sklearn.metrics import confusion_matrix, accuracy_score, precision_score, recall_score, f1_score\n",
    "import matplotlib.pyplot as plt\n",
    "import seaborn as sns"
   ]
  },
  {
   "cell_type": "markdown",
   "id": "dfa4f7d2",
   "metadata": {},
   "source": [
    "## Data Collection and Processing"
   ]
  },
  {
   "cell_type": "code",
   "execution_count": 2,
   "id": "c1ea337a",
   "metadata": {},
   "outputs": [],
   "source": [
    "# Loading data into dataframe\n",
    "job_data = pd.read_csv('dataset/fake_job_postings.csv')"
   ]
  },
  {
   "cell_type": "code",
   "execution_count": 3,
   "id": "d3637a84",
   "metadata": {},
   "outputs": [
    {
     "data": {
      "text/html": [
       "<div>\n",
       "<style scoped>\n",
       "    .dataframe tbody tr th:only-of-type {\n",
       "        vertical-align: middle;\n",
       "    }\n",
       "\n",
       "    .dataframe tbody tr th {\n",
       "        vertical-align: top;\n",
       "    }\n",
       "\n",
       "    .dataframe thead th {\n",
       "        text-align: right;\n",
       "    }\n",
       "</style>\n",
       "<table border=\"1\" class=\"dataframe\">\n",
       "  <thead>\n",
       "    <tr style=\"text-align: right;\">\n",
       "      <th></th>\n",
       "      <th>job_id</th>\n",
       "      <th>title</th>\n",
       "      <th>location</th>\n",
       "      <th>department</th>\n",
       "      <th>salary_range</th>\n",
       "      <th>company_profile</th>\n",
       "      <th>description</th>\n",
       "      <th>requirements</th>\n",
       "      <th>benefits</th>\n",
       "      <th>telecommuting</th>\n",
       "      <th>has_company_logo</th>\n",
       "      <th>has_questions</th>\n",
       "      <th>employment_type</th>\n",
       "      <th>required_experience</th>\n",
       "      <th>required_education</th>\n",
       "      <th>industry</th>\n",
       "      <th>function</th>\n",
       "      <th>fraudulent</th>\n",
       "    </tr>\n",
       "  </thead>\n",
       "  <tbody>\n",
       "    <tr>\n",
       "      <th>0</th>\n",
       "      <td>1</td>\n",
       "      <td>Marketing Intern</td>\n",
       "      <td>US, NY, New York</td>\n",
       "      <td>Marketing</td>\n",
       "      <td>NaN</td>\n",
       "      <td>We're Food52, and we've created a groundbreaki...</td>\n",
       "      <td>Food52, a fast-growing, James Beard Award-winn...</td>\n",
       "      <td>Experience with content management systems a m...</td>\n",
       "      <td>NaN</td>\n",
       "      <td>0</td>\n",
       "      <td>1</td>\n",
       "      <td>0</td>\n",
       "      <td>Other</td>\n",
       "      <td>Internship</td>\n",
       "      <td>NaN</td>\n",
       "      <td>NaN</td>\n",
       "      <td>Marketing</td>\n",
       "      <td>0</td>\n",
       "    </tr>\n",
       "    <tr>\n",
       "      <th>1</th>\n",
       "      <td>2</td>\n",
       "      <td>Customer Service - Cloud Video Production</td>\n",
       "      <td>NZ, , Auckland</td>\n",
       "      <td>Success</td>\n",
       "      <td>NaN</td>\n",
       "      <td>90 Seconds, the worlds Cloud Video Production ...</td>\n",
       "      <td>Organised - Focused - Vibrant - Awesome!Do you...</td>\n",
       "      <td>What we expect from you:Your key responsibilit...</td>\n",
       "      <td>What you will get from usThrough being part of...</td>\n",
       "      <td>0</td>\n",
       "      <td>1</td>\n",
       "      <td>0</td>\n",
       "      <td>Full-time</td>\n",
       "      <td>Not Applicable</td>\n",
       "      <td>NaN</td>\n",
       "      <td>Marketing and Advertising</td>\n",
       "      <td>Customer Service</td>\n",
       "      <td>0</td>\n",
       "    </tr>\n",
       "    <tr>\n",
       "      <th>2</th>\n",
       "      <td>3</td>\n",
       "      <td>Commissioning Machinery Assistant (CMA)</td>\n",
       "      <td>US, IA, Wever</td>\n",
       "      <td>NaN</td>\n",
       "      <td>NaN</td>\n",
       "      <td>Valor Services provides Workforce Solutions th...</td>\n",
       "      <td>Our client, located in Houston, is actively se...</td>\n",
       "      <td>Implement pre-commissioning and commissioning ...</td>\n",
       "      <td>NaN</td>\n",
       "      <td>0</td>\n",
       "      <td>1</td>\n",
       "      <td>0</td>\n",
       "      <td>NaN</td>\n",
       "      <td>NaN</td>\n",
       "      <td>NaN</td>\n",
       "      <td>NaN</td>\n",
       "      <td>NaN</td>\n",
       "      <td>0</td>\n",
       "    </tr>\n",
       "    <tr>\n",
       "      <th>3</th>\n",
       "      <td>4</td>\n",
       "      <td>Account Executive - Washington DC</td>\n",
       "      <td>US, DC, Washington</td>\n",
       "      <td>Sales</td>\n",
       "      <td>NaN</td>\n",
       "      <td>Our passion for improving quality of life thro...</td>\n",
       "      <td>THE COMPANY: ESRI – Environmental Systems Rese...</td>\n",
       "      <td>EDUCATION: Bachelor’s or Master’s in GIS, busi...</td>\n",
       "      <td>Our culture is anything but corporate—we have ...</td>\n",
       "      <td>0</td>\n",
       "      <td>1</td>\n",
       "      <td>0</td>\n",
       "      <td>Full-time</td>\n",
       "      <td>Mid-Senior level</td>\n",
       "      <td>Bachelor's Degree</td>\n",
       "      <td>Computer Software</td>\n",
       "      <td>Sales</td>\n",
       "      <td>0</td>\n",
       "    </tr>\n",
       "    <tr>\n",
       "      <th>4</th>\n",
       "      <td>5</td>\n",
       "      <td>Bill Review Manager</td>\n",
       "      <td>US, FL, Fort Worth</td>\n",
       "      <td>NaN</td>\n",
       "      <td>NaN</td>\n",
       "      <td>SpotSource Solutions LLC is a Global Human Cap...</td>\n",
       "      <td>JOB TITLE: Itemization Review ManagerLOCATION:...</td>\n",
       "      <td>QUALIFICATIONS:RN license in the State of Texa...</td>\n",
       "      <td>Full Benefits Offered</td>\n",
       "      <td>0</td>\n",
       "      <td>1</td>\n",
       "      <td>1</td>\n",
       "      <td>Full-time</td>\n",
       "      <td>Mid-Senior level</td>\n",
       "      <td>Bachelor's Degree</td>\n",
       "      <td>Hospital &amp; Health Care</td>\n",
       "      <td>Health Care Provider</td>\n",
       "      <td>0</td>\n",
       "    </tr>\n",
       "  </tbody>\n",
       "</table>\n",
       "</div>"
      ],
      "text/plain": [
       "   job_id                                      title            location  \\\n",
       "0       1                           Marketing Intern    US, NY, New York   \n",
       "1       2  Customer Service - Cloud Video Production      NZ, , Auckland   \n",
       "2       3    Commissioning Machinery Assistant (CMA)       US, IA, Wever   \n",
       "3       4          Account Executive - Washington DC  US, DC, Washington   \n",
       "4       5                        Bill Review Manager  US, FL, Fort Worth   \n",
       "\n",
       "  department salary_range                                    company_profile  \\\n",
       "0  Marketing          NaN  We're Food52, and we've created a groundbreaki...   \n",
       "1    Success          NaN  90 Seconds, the worlds Cloud Video Production ...   \n",
       "2        NaN          NaN  Valor Services provides Workforce Solutions th...   \n",
       "3      Sales          NaN  Our passion for improving quality of life thro...   \n",
       "4        NaN          NaN  SpotSource Solutions LLC is a Global Human Cap...   \n",
       "\n",
       "                                         description  \\\n",
       "0  Food52, a fast-growing, James Beard Award-winn...   \n",
       "1  Organised - Focused - Vibrant - Awesome!Do you...   \n",
       "2  Our client, located in Houston, is actively se...   \n",
       "3  THE COMPANY: ESRI – Environmental Systems Rese...   \n",
       "4  JOB TITLE: Itemization Review ManagerLOCATION:...   \n",
       "\n",
       "                                        requirements  \\\n",
       "0  Experience with content management systems a m...   \n",
       "1  What we expect from you:Your key responsibilit...   \n",
       "2  Implement pre-commissioning and commissioning ...   \n",
       "3  EDUCATION: Bachelor’s or Master’s in GIS, busi...   \n",
       "4  QUALIFICATIONS:RN license in the State of Texa...   \n",
       "\n",
       "                                            benefits  telecommuting  \\\n",
       "0                                                NaN              0   \n",
       "1  What you will get from usThrough being part of...              0   \n",
       "2                                                NaN              0   \n",
       "3  Our culture is anything but corporate—we have ...              0   \n",
       "4                              Full Benefits Offered              0   \n",
       "\n",
       "   has_company_logo  has_questions employment_type required_experience  \\\n",
       "0                 1              0           Other          Internship   \n",
       "1                 1              0       Full-time      Not Applicable   \n",
       "2                 1              0             NaN                 NaN   \n",
       "3                 1              0       Full-time    Mid-Senior level   \n",
       "4                 1              1       Full-time    Mid-Senior level   \n",
       "\n",
       "  required_education                   industry              function  \\\n",
       "0                NaN                        NaN             Marketing   \n",
       "1                NaN  Marketing and Advertising      Customer Service   \n",
       "2                NaN                        NaN                   NaN   \n",
       "3  Bachelor's Degree          Computer Software                 Sales   \n",
       "4  Bachelor's Degree     Hospital & Health Care  Health Care Provider   \n",
       "\n",
       "   fraudulent  \n",
       "0           0  \n",
       "1           0  \n",
       "2           0  \n",
       "3           0  \n",
       "4           0  "
      ]
     },
     "execution_count": 3,
     "metadata": {},
     "output_type": "execute_result"
    }
   ],
   "source": [
    "# First 5 rows\n",
    "job_data.head()"
   ]
  },
  {
   "cell_type": "code",
   "execution_count": 4,
   "id": "50b32cf8",
   "metadata": {},
   "outputs": [
    {
     "data": {
      "text/plain": [
       "(17880, 18)"
      ]
     },
     "execution_count": 4,
     "metadata": {},
     "output_type": "execute_result"
    }
   ],
   "source": [
    "# Number of rows and columns\n",
    "job_data.shape"
   ]
  },
  {
   "cell_type": "code",
   "execution_count": 5,
   "id": "c8cbe8a7",
   "metadata": {},
   "outputs": [
    {
     "data": {
      "text/html": [
       "<div>\n",
       "<style scoped>\n",
       "    .dataframe tbody tr th:only-of-type {\n",
       "        vertical-align: middle;\n",
       "    }\n",
       "\n",
       "    .dataframe tbody tr th {\n",
       "        vertical-align: top;\n",
       "    }\n",
       "\n",
       "    .dataframe thead th {\n",
       "        text-align: right;\n",
       "    }\n",
       "</style>\n",
       "<table border=\"1\" class=\"dataframe\">\n",
       "  <thead>\n",
       "    <tr style=\"text-align: right;\">\n",
       "      <th></th>\n",
       "      <th>job_id</th>\n",
       "      <th>telecommuting</th>\n",
       "      <th>has_company_logo</th>\n",
       "      <th>has_questions</th>\n",
       "      <th>fraudulent</th>\n",
       "    </tr>\n",
       "  </thead>\n",
       "  <tbody>\n",
       "    <tr>\n",
       "      <th>count</th>\n",
       "      <td>17880.000000</td>\n",
       "      <td>17880.000000</td>\n",
       "      <td>17880.000000</td>\n",
       "      <td>17880.000000</td>\n",
       "      <td>17880.000000</td>\n",
       "    </tr>\n",
       "    <tr>\n",
       "      <th>mean</th>\n",
       "      <td>8940.500000</td>\n",
       "      <td>0.042897</td>\n",
       "      <td>0.795302</td>\n",
       "      <td>0.491723</td>\n",
       "      <td>0.048434</td>\n",
       "    </tr>\n",
       "    <tr>\n",
       "      <th>std</th>\n",
       "      <td>5161.655742</td>\n",
       "      <td>0.202631</td>\n",
       "      <td>0.403492</td>\n",
       "      <td>0.499945</td>\n",
       "      <td>0.214688</td>\n",
       "    </tr>\n",
       "    <tr>\n",
       "      <th>min</th>\n",
       "      <td>1.000000</td>\n",
       "      <td>0.000000</td>\n",
       "      <td>0.000000</td>\n",
       "      <td>0.000000</td>\n",
       "      <td>0.000000</td>\n",
       "    </tr>\n",
       "    <tr>\n",
       "      <th>25%</th>\n",
       "      <td>4470.750000</td>\n",
       "      <td>0.000000</td>\n",
       "      <td>1.000000</td>\n",
       "      <td>0.000000</td>\n",
       "      <td>0.000000</td>\n",
       "    </tr>\n",
       "    <tr>\n",
       "      <th>50%</th>\n",
       "      <td>8940.500000</td>\n",
       "      <td>0.000000</td>\n",
       "      <td>1.000000</td>\n",
       "      <td>0.000000</td>\n",
       "      <td>0.000000</td>\n",
       "    </tr>\n",
       "    <tr>\n",
       "      <th>75%</th>\n",
       "      <td>13410.250000</td>\n",
       "      <td>0.000000</td>\n",
       "      <td>1.000000</td>\n",
       "      <td>1.000000</td>\n",
       "      <td>0.000000</td>\n",
       "    </tr>\n",
       "    <tr>\n",
       "      <th>max</th>\n",
       "      <td>17880.000000</td>\n",
       "      <td>1.000000</td>\n",
       "      <td>1.000000</td>\n",
       "      <td>1.000000</td>\n",
       "      <td>1.000000</td>\n",
       "    </tr>\n",
       "  </tbody>\n",
       "</table>\n",
       "</div>"
      ],
      "text/plain": [
       "             job_id  telecommuting  has_company_logo  has_questions  \\\n",
       "count  17880.000000   17880.000000      17880.000000   17880.000000   \n",
       "mean    8940.500000       0.042897          0.795302       0.491723   \n",
       "std     5161.655742       0.202631          0.403492       0.499945   \n",
       "min        1.000000       0.000000          0.000000       0.000000   \n",
       "25%     4470.750000       0.000000          1.000000       0.000000   \n",
       "50%     8940.500000       0.000000          1.000000       0.000000   \n",
       "75%    13410.250000       0.000000          1.000000       1.000000   \n",
       "max    17880.000000       1.000000          1.000000       1.000000   \n",
       "\n",
       "         fraudulent  \n",
       "count  17880.000000  \n",
       "mean       0.048434  \n",
       "std        0.214688  \n",
       "min        0.000000  \n",
       "25%        0.000000  \n",
       "50%        0.000000  \n",
       "75%        0.000000  \n",
       "max        1.000000  "
      ]
     },
     "execution_count": 5,
     "metadata": {},
     "output_type": "execute_result"
    }
   ],
   "source": [
    "job_data.describe()"
   ]
  },
  {
   "cell_type": "code",
   "execution_count": 6,
   "id": "bc3dc242",
   "metadata": {},
   "outputs": [
    {
     "data": {
      "text/plain": [
       "job_id                  int64\n",
       "title                  object\n",
       "location               object\n",
       "department             object\n",
       "salary_range           object\n",
       "company_profile        object\n",
       "description            object\n",
       "requirements           object\n",
       "benefits               object\n",
       "telecommuting           int64\n",
       "has_company_logo        int64\n",
       "has_questions           int64\n",
       "employment_type        object\n",
       "required_experience    object\n",
       "required_education     object\n",
       "industry               object\n",
       "function               object\n",
       "fraudulent              int64\n",
       "dtype: object"
      ]
     },
     "execution_count": 6,
     "metadata": {},
     "output_type": "execute_result"
    }
   ],
   "source": [
    "# Checking type of data\n",
    "job_data.dtypes"
   ]
  },
  {
   "cell_type": "code",
   "execution_count": 7,
   "id": "c2b16092",
   "metadata": {},
   "outputs": [
    {
     "data": {
      "text/plain": [
       "job_id                     0\n",
       "title                      0\n",
       "location                 346\n",
       "department             11547\n",
       "salary_range           15012\n",
       "company_profile         3308\n",
       "description                1\n",
       "requirements            2695\n",
       "benefits                7210\n",
       "telecommuting              0\n",
       "has_company_logo           0\n",
       "has_questions              0\n",
       "employment_type         3471\n",
       "required_experience     7050\n",
       "required_education      8105\n",
       "industry                4903\n",
       "function                6455\n",
       "fraudulent                 0\n",
       "dtype: int64"
      ]
     },
     "execution_count": 7,
     "metadata": {},
     "output_type": "execute_result"
    }
   ],
   "source": [
    "# Checking missing values\n",
    "job_data.isna().sum()"
   ]
  },
  {
   "cell_type": "markdown",
   "id": "dd0cc520",
   "metadata": {},
   "source": [
    "**For simplicity we are going to consider only the columns that seem more relevant and those will be:\n",
    "title, location, company_profile, description, requirements, benefits, has_questions, employment_type, required_experience and requiered_education**"
   ]
  },
  {
   "cell_type": "code",
   "execution_count": 8,
   "id": "1437e1d2",
   "metadata": {},
   "outputs": [],
   "source": [
    "job_data_filtered_columns = job_data.drop(columns=['job_id', 'department', 'salary_range', 'telecommuting', 'has_company_logo', 'industry', 'function'], axis=1)"
   ]
  },
  {
   "cell_type": "code",
   "execution_count": 9,
   "id": "f455a370",
   "metadata": {},
   "outputs": [
    {
     "data": {
      "text/html": [
       "<div>\n",
       "<style scoped>\n",
       "    .dataframe tbody tr th:only-of-type {\n",
       "        vertical-align: middle;\n",
       "    }\n",
       "\n",
       "    .dataframe tbody tr th {\n",
       "        vertical-align: top;\n",
       "    }\n",
       "\n",
       "    .dataframe thead th {\n",
       "        text-align: right;\n",
       "    }\n",
       "</style>\n",
       "<table border=\"1\" class=\"dataframe\">\n",
       "  <thead>\n",
       "    <tr style=\"text-align: right;\">\n",
       "      <th></th>\n",
       "      <th>title</th>\n",
       "      <th>location</th>\n",
       "      <th>company_profile</th>\n",
       "      <th>description</th>\n",
       "      <th>requirements</th>\n",
       "      <th>benefits</th>\n",
       "      <th>has_questions</th>\n",
       "      <th>employment_type</th>\n",
       "      <th>required_experience</th>\n",
       "      <th>required_education</th>\n",
       "      <th>fraudulent</th>\n",
       "    </tr>\n",
       "  </thead>\n",
       "  <tbody>\n",
       "    <tr>\n",
       "      <th>0</th>\n",
       "      <td>Marketing Intern</td>\n",
       "      <td>US, NY, New York</td>\n",
       "      <td>We're Food52, and we've created a groundbreaki...</td>\n",
       "      <td>Food52, a fast-growing, James Beard Award-winn...</td>\n",
       "      <td>Experience with content management systems a m...</td>\n",
       "      <td>NaN</td>\n",
       "      <td>0</td>\n",
       "      <td>Other</td>\n",
       "      <td>Internship</td>\n",
       "      <td>NaN</td>\n",
       "      <td>0</td>\n",
       "    </tr>\n",
       "    <tr>\n",
       "      <th>1</th>\n",
       "      <td>Customer Service - Cloud Video Production</td>\n",
       "      <td>NZ, , Auckland</td>\n",
       "      <td>90 Seconds, the worlds Cloud Video Production ...</td>\n",
       "      <td>Organised - Focused - Vibrant - Awesome!Do you...</td>\n",
       "      <td>What we expect from you:Your key responsibilit...</td>\n",
       "      <td>What you will get from usThrough being part of...</td>\n",
       "      <td>0</td>\n",
       "      <td>Full-time</td>\n",
       "      <td>Not Applicable</td>\n",
       "      <td>NaN</td>\n",
       "      <td>0</td>\n",
       "    </tr>\n",
       "    <tr>\n",
       "      <th>2</th>\n",
       "      <td>Commissioning Machinery Assistant (CMA)</td>\n",
       "      <td>US, IA, Wever</td>\n",
       "      <td>Valor Services provides Workforce Solutions th...</td>\n",
       "      <td>Our client, located in Houston, is actively se...</td>\n",
       "      <td>Implement pre-commissioning and commissioning ...</td>\n",
       "      <td>NaN</td>\n",
       "      <td>0</td>\n",
       "      <td>NaN</td>\n",
       "      <td>NaN</td>\n",
       "      <td>NaN</td>\n",
       "      <td>0</td>\n",
       "    </tr>\n",
       "    <tr>\n",
       "      <th>3</th>\n",
       "      <td>Account Executive - Washington DC</td>\n",
       "      <td>US, DC, Washington</td>\n",
       "      <td>Our passion for improving quality of life thro...</td>\n",
       "      <td>THE COMPANY: ESRI – Environmental Systems Rese...</td>\n",
       "      <td>EDUCATION: Bachelor’s or Master’s in GIS, busi...</td>\n",
       "      <td>Our culture is anything but corporate—we have ...</td>\n",
       "      <td>0</td>\n",
       "      <td>Full-time</td>\n",
       "      <td>Mid-Senior level</td>\n",
       "      <td>Bachelor's Degree</td>\n",
       "      <td>0</td>\n",
       "    </tr>\n",
       "    <tr>\n",
       "      <th>4</th>\n",
       "      <td>Bill Review Manager</td>\n",
       "      <td>US, FL, Fort Worth</td>\n",
       "      <td>SpotSource Solutions LLC is a Global Human Cap...</td>\n",
       "      <td>JOB TITLE: Itemization Review ManagerLOCATION:...</td>\n",
       "      <td>QUALIFICATIONS:RN license in the State of Texa...</td>\n",
       "      <td>Full Benefits Offered</td>\n",
       "      <td>1</td>\n",
       "      <td>Full-time</td>\n",
       "      <td>Mid-Senior level</td>\n",
       "      <td>Bachelor's Degree</td>\n",
       "      <td>0</td>\n",
       "    </tr>\n",
       "  </tbody>\n",
       "</table>\n",
       "</div>"
      ],
      "text/plain": [
       "                                       title            location  \\\n",
       "0                           Marketing Intern    US, NY, New York   \n",
       "1  Customer Service - Cloud Video Production      NZ, , Auckland   \n",
       "2    Commissioning Machinery Assistant (CMA)       US, IA, Wever   \n",
       "3          Account Executive - Washington DC  US, DC, Washington   \n",
       "4                        Bill Review Manager  US, FL, Fort Worth   \n",
       "\n",
       "                                     company_profile  \\\n",
       "0  We're Food52, and we've created a groundbreaki...   \n",
       "1  90 Seconds, the worlds Cloud Video Production ...   \n",
       "2  Valor Services provides Workforce Solutions th...   \n",
       "3  Our passion for improving quality of life thro...   \n",
       "4  SpotSource Solutions LLC is a Global Human Cap...   \n",
       "\n",
       "                                         description  \\\n",
       "0  Food52, a fast-growing, James Beard Award-winn...   \n",
       "1  Organised - Focused - Vibrant - Awesome!Do you...   \n",
       "2  Our client, located in Houston, is actively se...   \n",
       "3  THE COMPANY: ESRI – Environmental Systems Rese...   \n",
       "4  JOB TITLE: Itemization Review ManagerLOCATION:...   \n",
       "\n",
       "                                        requirements  \\\n",
       "0  Experience with content management systems a m...   \n",
       "1  What we expect from you:Your key responsibilit...   \n",
       "2  Implement pre-commissioning and commissioning ...   \n",
       "3  EDUCATION: Bachelor’s or Master’s in GIS, busi...   \n",
       "4  QUALIFICATIONS:RN license in the State of Texa...   \n",
       "\n",
       "                                            benefits  has_questions  \\\n",
       "0                                                NaN              0   \n",
       "1  What you will get from usThrough being part of...              0   \n",
       "2                                                NaN              0   \n",
       "3  Our culture is anything but corporate—we have ...              0   \n",
       "4                              Full Benefits Offered              1   \n",
       "\n",
       "  employment_type required_experience required_education  fraudulent  \n",
       "0           Other          Internship                NaN           0  \n",
       "1       Full-time      Not Applicable                NaN           0  \n",
       "2             NaN                 NaN                NaN           0  \n",
       "3       Full-time    Mid-Senior level  Bachelor's Degree           0  \n",
       "4       Full-time    Mid-Senior level  Bachelor's Degree           0  "
      ]
     },
     "execution_count": 9,
     "metadata": {},
     "output_type": "execute_result"
    }
   ],
   "source": [
    "job_data_filtered_columns.head()"
   ]
  },
  {
   "cell_type": "markdown",
   "id": "e88e092a",
   "metadata": {},
   "source": [
    "**The NaN will be replaced with empty strings**"
   ]
  },
  {
   "cell_type": "code",
   "execution_count": 10,
   "id": "19b153ed",
   "metadata": {},
   "outputs": [],
   "source": [
    "clean_job_data = job_data_filtered_columns.where((pd.notnull(job_data)), '')"
   ]
  },
  {
   "cell_type": "code",
   "execution_count": 11,
   "id": "090f40f7",
   "metadata": {},
   "outputs": [
    {
     "data": {
      "text/plain": [
       "title                  0\n",
       "location               0\n",
       "company_profile        0\n",
       "description            0\n",
       "requirements           0\n",
       "benefits               0\n",
       "has_questions          0\n",
       "employment_type        0\n",
       "required_experience    0\n",
       "required_education     0\n",
       "fraudulent             0\n",
       "dtype: int64"
      ]
     },
     "execution_count": 11,
     "metadata": {},
     "output_type": "execute_result"
    }
   ],
   "source": [
    "clean_job_data.isna().sum()"
   ]
  },
  {
   "cell_type": "code",
   "execution_count": 12,
   "id": "1d3c9f6c",
   "metadata": {},
   "outputs": [
    {
     "data": {
      "text/html": [
       "<div>\n",
       "<style scoped>\n",
       "    .dataframe tbody tr th:only-of-type {\n",
       "        vertical-align: middle;\n",
       "    }\n",
       "\n",
       "    .dataframe tbody tr th {\n",
       "        vertical-align: top;\n",
       "    }\n",
       "\n",
       "    .dataframe thead th {\n",
       "        text-align: right;\n",
       "    }\n",
       "</style>\n",
       "<table border=\"1\" class=\"dataframe\">\n",
       "  <thead>\n",
       "    <tr style=\"text-align: right;\">\n",
       "      <th></th>\n",
       "      <th>title</th>\n",
       "      <th>location</th>\n",
       "      <th>company_profile</th>\n",
       "      <th>description</th>\n",
       "      <th>requirements</th>\n",
       "      <th>benefits</th>\n",
       "      <th>has_questions</th>\n",
       "      <th>employment_type</th>\n",
       "      <th>required_experience</th>\n",
       "      <th>required_education</th>\n",
       "      <th>fraudulent</th>\n",
       "    </tr>\n",
       "  </thead>\n",
       "  <tbody>\n",
       "    <tr>\n",
       "      <th>0</th>\n",
       "      <td>Marketing Intern</td>\n",
       "      <td>US, NY, New York</td>\n",
       "      <td>We're Food52, and we've created a groundbreaki...</td>\n",
       "      <td>Food52, a fast-growing, James Beard Award-winn...</td>\n",
       "      <td>Experience with content management systems a m...</td>\n",
       "      <td></td>\n",
       "      <td>0</td>\n",
       "      <td>Other</td>\n",
       "      <td>Internship</td>\n",
       "      <td></td>\n",
       "      <td>0</td>\n",
       "    </tr>\n",
       "    <tr>\n",
       "      <th>1</th>\n",
       "      <td>Customer Service - Cloud Video Production</td>\n",
       "      <td>NZ, , Auckland</td>\n",
       "      <td>90 Seconds, the worlds Cloud Video Production ...</td>\n",
       "      <td>Organised - Focused - Vibrant - Awesome!Do you...</td>\n",
       "      <td>What we expect from you:Your key responsibilit...</td>\n",
       "      <td>What you will get from usThrough being part of...</td>\n",
       "      <td>0</td>\n",
       "      <td>Full-time</td>\n",
       "      <td>Not Applicable</td>\n",
       "      <td></td>\n",
       "      <td>0</td>\n",
       "    </tr>\n",
       "    <tr>\n",
       "      <th>2</th>\n",
       "      <td>Commissioning Machinery Assistant (CMA)</td>\n",
       "      <td>US, IA, Wever</td>\n",
       "      <td>Valor Services provides Workforce Solutions th...</td>\n",
       "      <td>Our client, located in Houston, is actively se...</td>\n",
       "      <td>Implement pre-commissioning and commissioning ...</td>\n",
       "      <td></td>\n",
       "      <td>0</td>\n",
       "      <td></td>\n",
       "      <td></td>\n",
       "      <td></td>\n",
       "      <td>0</td>\n",
       "    </tr>\n",
       "    <tr>\n",
       "      <th>3</th>\n",
       "      <td>Account Executive - Washington DC</td>\n",
       "      <td>US, DC, Washington</td>\n",
       "      <td>Our passion for improving quality of life thro...</td>\n",
       "      <td>THE COMPANY: ESRI – Environmental Systems Rese...</td>\n",
       "      <td>EDUCATION: Bachelor’s or Master’s in GIS, busi...</td>\n",
       "      <td>Our culture is anything but corporate—we have ...</td>\n",
       "      <td>0</td>\n",
       "      <td>Full-time</td>\n",
       "      <td>Mid-Senior level</td>\n",
       "      <td>Bachelor's Degree</td>\n",
       "      <td>0</td>\n",
       "    </tr>\n",
       "    <tr>\n",
       "      <th>4</th>\n",
       "      <td>Bill Review Manager</td>\n",
       "      <td>US, FL, Fort Worth</td>\n",
       "      <td>SpotSource Solutions LLC is a Global Human Cap...</td>\n",
       "      <td>JOB TITLE: Itemization Review ManagerLOCATION:...</td>\n",
       "      <td>QUALIFICATIONS:RN license in the State of Texa...</td>\n",
       "      <td>Full Benefits Offered</td>\n",
       "      <td>1</td>\n",
       "      <td>Full-time</td>\n",
       "      <td>Mid-Senior level</td>\n",
       "      <td>Bachelor's Degree</td>\n",
       "      <td>0</td>\n",
       "    </tr>\n",
       "  </tbody>\n",
       "</table>\n",
       "</div>"
      ],
      "text/plain": [
       "                                       title            location  \\\n",
       "0                           Marketing Intern    US, NY, New York   \n",
       "1  Customer Service - Cloud Video Production      NZ, , Auckland   \n",
       "2    Commissioning Machinery Assistant (CMA)       US, IA, Wever   \n",
       "3          Account Executive - Washington DC  US, DC, Washington   \n",
       "4                        Bill Review Manager  US, FL, Fort Worth   \n",
       "\n",
       "                                     company_profile  \\\n",
       "0  We're Food52, and we've created a groundbreaki...   \n",
       "1  90 Seconds, the worlds Cloud Video Production ...   \n",
       "2  Valor Services provides Workforce Solutions th...   \n",
       "3  Our passion for improving quality of life thro...   \n",
       "4  SpotSource Solutions LLC is a Global Human Cap...   \n",
       "\n",
       "                                         description  \\\n",
       "0  Food52, a fast-growing, James Beard Award-winn...   \n",
       "1  Organised - Focused - Vibrant - Awesome!Do you...   \n",
       "2  Our client, located in Houston, is actively se...   \n",
       "3  THE COMPANY: ESRI – Environmental Systems Rese...   \n",
       "4  JOB TITLE: Itemization Review ManagerLOCATION:...   \n",
       "\n",
       "                                        requirements  \\\n",
       "0  Experience with content management systems a m...   \n",
       "1  What we expect from you:Your key responsibilit...   \n",
       "2  Implement pre-commissioning and commissioning ...   \n",
       "3  EDUCATION: Bachelor’s or Master’s in GIS, busi...   \n",
       "4  QUALIFICATIONS:RN license in the State of Texa...   \n",
       "\n",
       "                                            benefits  has_questions  \\\n",
       "0                                                                 0   \n",
       "1  What you will get from usThrough being part of...              0   \n",
       "2                                                                 0   \n",
       "3  Our culture is anything but corporate—we have ...              0   \n",
       "4                              Full Benefits Offered              1   \n",
       "\n",
       "  employment_type required_experience required_education  fraudulent  \n",
       "0           Other          Internship                              0  \n",
       "1       Full-time      Not Applicable                              0  \n",
       "2                                                                  0  \n",
       "3       Full-time    Mid-Senior level  Bachelor's Degree           0  \n",
       "4       Full-time    Mid-Senior level  Bachelor's Degree           0  "
      ]
     },
     "execution_count": 12,
     "metadata": {},
     "output_type": "execute_result"
    }
   ],
   "source": [
    "clean_job_data.head()"
   ]
  },
  {
   "cell_type": "markdown",
   "id": "2c97c813",
   "metadata": {},
   "source": [
    "**For location, only the country will be considered**"
   ]
  },
  {
   "cell_type": "code",
   "execution_count": 13,
   "id": "96a14fb9",
   "metadata": {},
   "outputs": [],
   "source": [
    "def get_country(location):\n",
    "    return location.split(',')[0]"
   ]
  },
  {
   "cell_type": "code",
   "execution_count": 14,
   "id": "b6bc4a6f",
   "metadata": {},
   "outputs": [],
   "source": [
    "clean_job_data['location'] = clean_job_data.location.apply(get_country)"
   ]
  },
  {
   "cell_type": "code",
   "execution_count": 15,
   "id": "8cb91390",
   "metadata": {},
   "outputs": [
    {
     "data": {
      "text/html": [
       "<div>\n",
       "<style scoped>\n",
       "    .dataframe tbody tr th:only-of-type {\n",
       "        vertical-align: middle;\n",
       "    }\n",
       "\n",
       "    .dataframe tbody tr th {\n",
       "        vertical-align: top;\n",
       "    }\n",
       "\n",
       "    .dataframe thead th {\n",
       "        text-align: right;\n",
       "    }\n",
       "</style>\n",
       "<table border=\"1\" class=\"dataframe\">\n",
       "  <thead>\n",
       "    <tr style=\"text-align: right;\">\n",
       "      <th></th>\n",
       "      <th>title</th>\n",
       "      <th>location</th>\n",
       "      <th>company_profile</th>\n",
       "      <th>description</th>\n",
       "      <th>requirements</th>\n",
       "      <th>benefits</th>\n",
       "      <th>has_questions</th>\n",
       "      <th>employment_type</th>\n",
       "      <th>required_experience</th>\n",
       "      <th>required_education</th>\n",
       "      <th>fraudulent</th>\n",
       "    </tr>\n",
       "  </thead>\n",
       "  <tbody>\n",
       "    <tr>\n",
       "      <th>0</th>\n",
       "      <td>Marketing Intern</td>\n",
       "      <td>US</td>\n",
       "      <td>We're Food52, and we've created a groundbreaki...</td>\n",
       "      <td>Food52, a fast-growing, James Beard Award-winn...</td>\n",
       "      <td>Experience with content management systems a m...</td>\n",
       "      <td></td>\n",
       "      <td>0</td>\n",
       "      <td>Other</td>\n",
       "      <td>Internship</td>\n",
       "      <td></td>\n",
       "      <td>0</td>\n",
       "    </tr>\n",
       "    <tr>\n",
       "      <th>1</th>\n",
       "      <td>Customer Service - Cloud Video Production</td>\n",
       "      <td>NZ</td>\n",
       "      <td>90 Seconds, the worlds Cloud Video Production ...</td>\n",
       "      <td>Organised - Focused - Vibrant - Awesome!Do you...</td>\n",
       "      <td>What we expect from you:Your key responsibilit...</td>\n",
       "      <td>What you will get from usThrough being part of...</td>\n",
       "      <td>0</td>\n",
       "      <td>Full-time</td>\n",
       "      <td>Not Applicable</td>\n",
       "      <td></td>\n",
       "      <td>0</td>\n",
       "    </tr>\n",
       "    <tr>\n",
       "      <th>2</th>\n",
       "      <td>Commissioning Machinery Assistant (CMA)</td>\n",
       "      <td>US</td>\n",
       "      <td>Valor Services provides Workforce Solutions th...</td>\n",
       "      <td>Our client, located in Houston, is actively se...</td>\n",
       "      <td>Implement pre-commissioning and commissioning ...</td>\n",
       "      <td></td>\n",
       "      <td>0</td>\n",
       "      <td></td>\n",
       "      <td></td>\n",
       "      <td></td>\n",
       "      <td>0</td>\n",
       "    </tr>\n",
       "    <tr>\n",
       "      <th>3</th>\n",
       "      <td>Account Executive - Washington DC</td>\n",
       "      <td>US</td>\n",
       "      <td>Our passion for improving quality of life thro...</td>\n",
       "      <td>THE COMPANY: ESRI – Environmental Systems Rese...</td>\n",
       "      <td>EDUCATION: Bachelor’s or Master’s in GIS, busi...</td>\n",
       "      <td>Our culture is anything but corporate—we have ...</td>\n",
       "      <td>0</td>\n",
       "      <td>Full-time</td>\n",
       "      <td>Mid-Senior level</td>\n",
       "      <td>Bachelor's Degree</td>\n",
       "      <td>0</td>\n",
       "    </tr>\n",
       "    <tr>\n",
       "      <th>4</th>\n",
       "      <td>Bill Review Manager</td>\n",
       "      <td>US</td>\n",
       "      <td>SpotSource Solutions LLC is a Global Human Cap...</td>\n",
       "      <td>JOB TITLE: Itemization Review ManagerLOCATION:...</td>\n",
       "      <td>QUALIFICATIONS:RN license in the State of Texa...</td>\n",
       "      <td>Full Benefits Offered</td>\n",
       "      <td>1</td>\n",
       "      <td>Full-time</td>\n",
       "      <td>Mid-Senior level</td>\n",
       "      <td>Bachelor's Degree</td>\n",
       "      <td>0</td>\n",
       "    </tr>\n",
       "  </tbody>\n",
       "</table>\n",
       "</div>"
      ],
      "text/plain": [
       "                                       title location  \\\n",
       "0                           Marketing Intern       US   \n",
       "1  Customer Service - Cloud Video Production       NZ   \n",
       "2    Commissioning Machinery Assistant (CMA)       US   \n",
       "3          Account Executive - Washington DC       US   \n",
       "4                        Bill Review Manager       US   \n",
       "\n",
       "                                     company_profile  \\\n",
       "0  We're Food52, and we've created a groundbreaki...   \n",
       "1  90 Seconds, the worlds Cloud Video Production ...   \n",
       "2  Valor Services provides Workforce Solutions th...   \n",
       "3  Our passion for improving quality of life thro...   \n",
       "4  SpotSource Solutions LLC is a Global Human Cap...   \n",
       "\n",
       "                                         description  \\\n",
       "0  Food52, a fast-growing, James Beard Award-winn...   \n",
       "1  Organised - Focused - Vibrant - Awesome!Do you...   \n",
       "2  Our client, located in Houston, is actively se...   \n",
       "3  THE COMPANY: ESRI – Environmental Systems Rese...   \n",
       "4  JOB TITLE: Itemization Review ManagerLOCATION:...   \n",
       "\n",
       "                                        requirements  \\\n",
       "0  Experience with content management systems a m...   \n",
       "1  What we expect from you:Your key responsibilit...   \n",
       "2  Implement pre-commissioning and commissioning ...   \n",
       "3  EDUCATION: Bachelor’s or Master’s in GIS, busi...   \n",
       "4  QUALIFICATIONS:RN license in the State of Texa...   \n",
       "\n",
       "                                            benefits  has_questions  \\\n",
       "0                                                                 0   \n",
       "1  What you will get from usThrough being part of...              0   \n",
       "2                                                                 0   \n",
       "3  Our culture is anything but corporate—we have ...              0   \n",
       "4                              Full Benefits Offered              1   \n",
       "\n",
       "  employment_type required_experience required_education  fraudulent  \n",
       "0           Other          Internship                              0  \n",
       "1       Full-time      Not Applicable                              0  \n",
       "2                                                                  0  \n",
       "3       Full-time    Mid-Senior level  Bachelor's Degree           0  \n",
       "4       Full-time    Mid-Senior level  Bachelor's Degree           0  "
      ]
     },
     "execution_count": 15,
     "metadata": {},
     "output_type": "execute_result"
    }
   ],
   "source": [
    "clean_job_data.head()"
   ]
  },
  {
   "cell_type": "code",
   "execution_count": 16,
   "id": "c1c2955f",
   "metadata": {},
   "outputs": [
    {
     "data": {
      "text/plain": [
       "title                  object\n",
       "location               object\n",
       "company_profile        object\n",
       "description            object\n",
       "requirements           object\n",
       "benefits               object\n",
       "has_questions           int64\n",
       "employment_type        object\n",
       "required_experience    object\n",
       "required_education     object\n",
       "fraudulent              int64\n",
       "dtype: object"
      ]
     },
     "execution_count": 16,
     "metadata": {},
     "output_type": "execute_result"
    }
   ],
   "source": [
    "clean_job_data.dtypes"
   ]
  },
  {
   "cell_type": "code",
   "execution_count": 17,
   "id": "e558d448",
   "metadata": {},
   "outputs": [],
   "source": [
    "# has_questions will be converted to string\n",
    "clean_job_data['has_questions'] = clean_job_data['has_questions'].astype(str)"
   ]
  },
  {
   "cell_type": "code",
   "execution_count": 18,
   "id": "82fa54e7",
   "metadata": {},
   "outputs": [
    {
     "data": {
      "text/plain": [
       "title                  object\n",
       "location               object\n",
       "company_profile        object\n",
       "description            object\n",
       "requirements           object\n",
       "benefits               object\n",
       "has_questions          object\n",
       "employment_type        object\n",
       "required_experience    object\n",
       "required_education     object\n",
       "fraudulent              int64\n",
       "dtype: object"
      ]
     },
     "execution_count": 18,
     "metadata": {},
     "output_type": "execute_result"
    }
   ],
   "source": [
    "clean_job_data.dtypes"
   ]
  },
  {
   "cell_type": "markdown",
   "id": "3a65823c",
   "metadata": {},
   "source": [
    "**A column with the text of all the features will be created to be used as X**"
   ]
  },
  {
   "cell_type": "code",
   "execution_count": 19,
   "id": "6e65824c",
   "metadata": {},
   "outputs": [],
   "source": [
    "clean_job_data['text'] = clean_job_data['title'] + ' - ' + clean_job_data['location'] + ' - ' + clean_job_data['company_profile'] + ' - ' + clean_job_data['description'] + ' - ' + clean_job_data['requirements'] +  ' - ' + clean_job_data['benefits'] + ' - ' + clean_job_data['has_questions'] + ' - ' + clean_job_data['employment_type'] + ' - ' + clean_job_data['required_experience'] + ' - ' + clean_job_data['required_education']"
   ]
  },
  {
   "cell_type": "code",
   "execution_count": 20,
   "id": "b3fdaef7",
   "metadata": {},
   "outputs": [
    {
     "data": {
      "text/html": [
       "<div>\n",
       "<style scoped>\n",
       "    .dataframe tbody tr th:only-of-type {\n",
       "        vertical-align: middle;\n",
       "    }\n",
       "\n",
       "    .dataframe tbody tr th {\n",
       "        vertical-align: top;\n",
       "    }\n",
       "\n",
       "    .dataframe thead th {\n",
       "        text-align: right;\n",
       "    }\n",
       "</style>\n",
       "<table border=\"1\" class=\"dataframe\">\n",
       "  <thead>\n",
       "    <tr style=\"text-align: right;\">\n",
       "      <th></th>\n",
       "      <th>title</th>\n",
       "      <th>location</th>\n",
       "      <th>company_profile</th>\n",
       "      <th>description</th>\n",
       "      <th>requirements</th>\n",
       "      <th>benefits</th>\n",
       "      <th>has_questions</th>\n",
       "      <th>employment_type</th>\n",
       "      <th>required_experience</th>\n",
       "      <th>required_education</th>\n",
       "      <th>fraudulent</th>\n",
       "      <th>text</th>\n",
       "    </tr>\n",
       "  </thead>\n",
       "  <tbody>\n",
       "    <tr>\n",
       "      <th>0</th>\n",
       "      <td>Marketing Intern</td>\n",
       "      <td>US</td>\n",
       "      <td>We're Food52, and we've created a groundbreaki...</td>\n",
       "      <td>Food52, a fast-growing, James Beard Award-winn...</td>\n",
       "      <td>Experience with content management systems a m...</td>\n",
       "      <td></td>\n",
       "      <td>0</td>\n",
       "      <td>Other</td>\n",
       "      <td>Internship</td>\n",
       "      <td></td>\n",
       "      <td>0</td>\n",
       "      <td>Marketing Intern - US - We're Food52, and we'v...</td>\n",
       "    </tr>\n",
       "    <tr>\n",
       "      <th>1</th>\n",
       "      <td>Customer Service - Cloud Video Production</td>\n",
       "      <td>NZ</td>\n",
       "      <td>90 Seconds, the worlds Cloud Video Production ...</td>\n",
       "      <td>Organised - Focused - Vibrant - Awesome!Do you...</td>\n",
       "      <td>What we expect from you:Your key responsibilit...</td>\n",
       "      <td>What you will get from usThrough being part of...</td>\n",
       "      <td>0</td>\n",
       "      <td>Full-time</td>\n",
       "      <td>Not Applicable</td>\n",
       "      <td></td>\n",
       "      <td>0</td>\n",
       "      <td>Customer Service - Cloud Video Production - NZ...</td>\n",
       "    </tr>\n",
       "    <tr>\n",
       "      <th>2</th>\n",
       "      <td>Commissioning Machinery Assistant (CMA)</td>\n",
       "      <td>US</td>\n",
       "      <td>Valor Services provides Workforce Solutions th...</td>\n",
       "      <td>Our client, located in Houston, is actively se...</td>\n",
       "      <td>Implement pre-commissioning and commissioning ...</td>\n",
       "      <td></td>\n",
       "      <td>0</td>\n",
       "      <td></td>\n",
       "      <td></td>\n",
       "      <td></td>\n",
       "      <td>0</td>\n",
       "      <td>Commissioning Machinery Assistant (CMA) - US -...</td>\n",
       "    </tr>\n",
       "    <tr>\n",
       "      <th>3</th>\n",
       "      <td>Account Executive - Washington DC</td>\n",
       "      <td>US</td>\n",
       "      <td>Our passion for improving quality of life thro...</td>\n",
       "      <td>THE COMPANY: ESRI – Environmental Systems Rese...</td>\n",
       "      <td>EDUCATION: Bachelor’s or Master’s in GIS, busi...</td>\n",
       "      <td>Our culture is anything but corporate—we have ...</td>\n",
       "      <td>0</td>\n",
       "      <td>Full-time</td>\n",
       "      <td>Mid-Senior level</td>\n",
       "      <td>Bachelor's Degree</td>\n",
       "      <td>0</td>\n",
       "      <td>Account Executive - Washington DC - US - Our p...</td>\n",
       "    </tr>\n",
       "    <tr>\n",
       "      <th>4</th>\n",
       "      <td>Bill Review Manager</td>\n",
       "      <td>US</td>\n",
       "      <td>SpotSource Solutions LLC is a Global Human Cap...</td>\n",
       "      <td>JOB TITLE: Itemization Review ManagerLOCATION:...</td>\n",
       "      <td>QUALIFICATIONS:RN license in the State of Texa...</td>\n",
       "      <td>Full Benefits Offered</td>\n",
       "      <td>1</td>\n",
       "      <td>Full-time</td>\n",
       "      <td>Mid-Senior level</td>\n",
       "      <td>Bachelor's Degree</td>\n",
       "      <td>0</td>\n",
       "      <td>Bill Review Manager - US - SpotSource Solution...</td>\n",
       "    </tr>\n",
       "  </tbody>\n",
       "</table>\n",
       "</div>"
      ],
      "text/plain": [
       "                                       title location  \\\n",
       "0                           Marketing Intern       US   \n",
       "1  Customer Service - Cloud Video Production       NZ   \n",
       "2    Commissioning Machinery Assistant (CMA)       US   \n",
       "3          Account Executive - Washington DC       US   \n",
       "4                        Bill Review Manager       US   \n",
       "\n",
       "                                     company_profile  \\\n",
       "0  We're Food52, and we've created a groundbreaki...   \n",
       "1  90 Seconds, the worlds Cloud Video Production ...   \n",
       "2  Valor Services provides Workforce Solutions th...   \n",
       "3  Our passion for improving quality of life thro...   \n",
       "4  SpotSource Solutions LLC is a Global Human Cap...   \n",
       "\n",
       "                                         description  \\\n",
       "0  Food52, a fast-growing, James Beard Award-winn...   \n",
       "1  Organised - Focused - Vibrant - Awesome!Do you...   \n",
       "2  Our client, located in Houston, is actively se...   \n",
       "3  THE COMPANY: ESRI – Environmental Systems Rese...   \n",
       "4  JOB TITLE: Itemization Review ManagerLOCATION:...   \n",
       "\n",
       "                                        requirements  \\\n",
       "0  Experience with content management systems a m...   \n",
       "1  What we expect from you:Your key responsibilit...   \n",
       "2  Implement pre-commissioning and commissioning ...   \n",
       "3  EDUCATION: Bachelor’s or Master’s in GIS, busi...   \n",
       "4  QUALIFICATIONS:RN license in the State of Texa...   \n",
       "\n",
       "                                            benefits has_questions  \\\n",
       "0                                                                0   \n",
       "1  What you will get from usThrough being part of...             0   \n",
       "2                                                                0   \n",
       "3  Our culture is anything but corporate—we have ...             0   \n",
       "4                              Full Benefits Offered             1   \n",
       "\n",
       "  employment_type required_experience required_education  fraudulent  \\\n",
       "0           Other          Internship                              0   \n",
       "1       Full-time      Not Applicable                              0   \n",
       "2                                                                  0   \n",
       "3       Full-time    Mid-Senior level  Bachelor's Degree           0   \n",
       "4       Full-time    Mid-Senior level  Bachelor's Degree           0   \n",
       "\n",
       "                                                text  \n",
       "0  Marketing Intern - US - We're Food52, and we'v...  \n",
       "1  Customer Service - Cloud Video Production - NZ...  \n",
       "2  Commissioning Machinery Assistant (CMA) - US -...  \n",
       "3  Account Executive - Washington DC - US - Our p...  \n",
       "4  Bill Review Manager - US - SpotSource Solution...  "
      ]
     },
     "execution_count": 20,
     "metadata": {},
     "output_type": "execute_result"
    }
   ],
   "source": [
    "clean_job_data.head()"
   ]
  },
  {
   "cell_type": "markdown",
   "id": "702224d9",
   "metadata": {},
   "source": [
    "## Checking Label Column Value Distribution"
   ]
  },
  {
   "cell_type": "code",
   "execution_count": 21,
   "id": "45c1a97d",
   "metadata": {},
   "outputs": [
    {
     "data": {
      "text/plain": [
       "0    17014\n",
       "1      866\n",
       "Name: fraudulent, dtype: int64"
      ]
     },
     "execution_count": 21,
     "metadata": {},
     "output_type": "execute_result"
    }
   ],
   "source": [
    "# Checking value on Fraudulent column\n",
    "clean_job_data['fraudulent'].value_counts()"
   ]
  },
  {
   "cell_type": "markdown",
   "id": "0781dd34",
   "metadata": {},
   "source": [
    "0 $\\longrightarrow$ True Job Offer  \n",
    "1 $\\longrightarrow$ Fake Job Offer"
   ]
  },
  {
   "cell_type": "markdown",
   "id": "8824c33e",
   "metadata": {},
   "source": [
    "## Undersampling"
   ]
  },
  {
   "cell_type": "code",
   "execution_count": 22,
   "id": "5e3a774d",
   "metadata": {},
   "outputs": [
    {
     "data": {
      "text/plain": [
       "(866, 12)"
      ]
     },
     "execution_count": 22,
     "metadata": {},
     "output_type": "execute_result"
    }
   ],
   "source": [
    "fake_sample = clean_job_data.loc[clean_job_data['fraudulent'] == 1]\n",
    "fake_sample.shape"
   ]
  },
  {
   "cell_type": "code",
   "execution_count": 23,
   "id": "04280da5",
   "metadata": {},
   "outputs": [
    {
     "data": {
      "text/plain": [
       "(17014, 12)"
      ]
     },
     "execution_count": 23,
     "metadata": {},
     "output_type": "execute_result"
    }
   ],
   "source": [
    "true_offers =  clean_job_data.loc[clean_job_data['fraudulent'] == 0]\n",
    "true_offers.shape"
   ]
  },
  {
   "cell_type": "code",
   "execution_count": 24,
   "id": "2ad3e955",
   "metadata": {},
   "outputs": [
    {
     "data": {
      "text/plain": [
       "(866, 12)"
      ]
     },
     "execution_count": 24,
     "metadata": {},
     "output_type": "execute_result"
    }
   ],
   "source": [
    "true_sample = true_offers.sample(n=866)\n",
    "true_sample.shape"
   ]
  },
  {
   "cell_type": "code",
   "execution_count": 25,
   "id": "ac01582b",
   "metadata": {},
   "outputs": [
    {
     "data": {
      "text/html": [
       "<div>\n",
       "<style scoped>\n",
       "    .dataframe tbody tr th:only-of-type {\n",
       "        vertical-align: middle;\n",
       "    }\n",
       "\n",
       "    .dataframe tbody tr th {\n",
       "        vertical-align: top;\n",
       "    }\n",
       "\n",
       "    .dataframe thead th {\n",
       "        text-align: right;\n",
       "    }\n",
       "</style>\n",
       "<table border=\"1\" class=\"dataframe\">\n",
       "  <thead>\n",
       "    <tr style=\"text-align: right;\">\n",
       "      <th></th>\n",
       "      <th>title</th>\n",
       "      <th>location</th>\n",
       "      <th>company_profile</th>\n",
       "      <th>description</th>\n",
       "      <th>requirements</th>\n",
       "      <th>benefits</th>\n",
       "      <th>has_questions</th>\n",
       "      <th>employment_type</th>\n",
       "      <th>required_experience</th>\n",
       "      <th>required_education</th>\n",
       "      <th>fraudulent</th>\n",
       "      <th>text</th>\n",
       "    </tr>\n",
       "  </thead>\n",
       "  <tbody>\n",
       "    <tr>\n",
       "      <th>12052</th>\n",
       "      <td>Driver - Medium Duty (Hayward)</td>\n",
       "      <td>US</td>\n",
       "      <td>Our HistoryFounded in 1929 by Earl Bertrand Br...</td>\n",
       "      <td>Position available is located in our Hayward, ...</td>\n",
       "      <td>Essential Job FunctionsSelect, sort and verify...</td>\n",
       "      <td></td>\n",
       "      <td>1</td>\n",
       "      <td></td>\n",
       "      <td></td>\n",
       "      <td></td>\n",
       "      <td>0</td>\n",
       "      <td>Driver - Medium Duty (Hayward) - US - Our Hist...</td>\n",
       "    </tr>\n",
       "    <tr>\n",
       "      <th>15423</th>\n",
       "      <td>Database Analyst</td>\n",
       "      <td>US</td>\n",
       "      <td></td>\n",
       "      <td>OverviewOur client is a growing software compa...</td>\n",
       "      <td>Must Have’s4+ years of relational database des...</td>\n",
       "      <td>The culture is that of teamwork, inspiration a...</td>\n",
       "      <td>0</td>\n",
       "      <td>Full-time</td>\n",
       "      <td>Mid-Senior level</td>\n",
       "      <td>Unspecified</td>\n",
       "      <td>0</td>\n",
       "      <td>Database Analyst - US -  - OverviewOur client ...</td>\n",
       "    </tr>\n",
       "    <tr>\n",
       "      <th>16388</th>\n",
       "      <td>Senior Hardware Engineer</td>\n",
       "      <td>NZ</td>\n",
       "      <td>Want to be part of a NZ success story that’s g...</td>\n",
       "      <td>Are you seeking a dynamic role where you will ...</td>\n",
       "      <td>As a Senior Hardware Engineer you will build a...</td>\n",
       "      <td>We are in an exciting growth phase, if you wou...</td>\n",
       "      <td>1</td>\n",
       "      <td>Full-time</td>\n",
       "      <td>Mid-Senior level</td>\n",
       "      <td>Bachelor's Degree</td>\n",
       "      <td>0</td>\n",
       "      <td>Senior Hardware Engineer - NZ - Want to be par...</td>\n",
       "    </tr>\n",
       "    <tr>\n",
       "      <th>13790</th>\n",
       "      <td>Mechanical Engineer</td>\n",
       "      <td>US</td>\n",
       "      <td>We Provide Full Time Permanent Positions for m...</td>\n",
       "      <td>(We have more than 1500+ Job openings in our w...</td>\n",
       "      <td></td>\n",
       "      <td></td>\n",
       "      <td>0</td>\n",
       "      <td>Full-time</td>\n",
       "      <td></td>\n",
       "      <td></td>\n",
       "      <td>0</td>\n",
       "      <td>Mechanical Engineer - US - We Provide Full Tim...</td>\n",
       "    </tr>\n",
       "    <tr>\n",
       "      <th>17285</th>\n",
       "      <td>Management - Entry-Level</td>\n",
       "      <td>US</td>\n",
       "      <td>NY Marketing Firm is family-owned and operated...</td>\n",
       "      <td>Entry-Level Management – Train to Manager Role...</td>\n",
       "      <td></td>\n",
       "      <td></td>\n",
       "      <td>0</td>\n",
       "      <td>Full-time</td>\n",
       "      <td>Entry level</td>\n",
       "      <td>Unspecified</td>\n",
       "      <td>0</td>\n",
       "      <td>Management - Entry-Level - US - NY Marketing F...</td>\n",
       "    </tr>\n",
       "  </tbody>\n",
       "</table>\n",
       "</div>"
      ],
      "text/plain": [
       "                                title location  \\\n",
       "12052  Driver - Medium Duty (Hayward)       US   \n",
       "15423                Database Analyst       US   \n",
       "16388        Senior Hardware Engineer       NZ   \n",
       "13790             Mechanical Engineer       US   \n",
       "17285        Management - Entry-Level       US   \n",
       "\n",
       "                                         company_profile  \\\n",
       "12052  Our HistoryFounded in 1929 by Earl Bertrand Br...   \n",
       "15423                                                      \n",
       "16388  Want to be part of a NZ success story that’s g...   \n",
       "13790  We Provide Full Time Permanent Positions for m...   \n",
       "17285  NY Marketing Firm is family-owned and operated...   \n",
       "\n",
       "                                             description  \\\n",
       "12052  Position available is located in our Hayward, ...   \n",
       "15423  OverviewOur client is a growing software compa...   \n",
       "16388  Are you seeking a dynamic role where you will ...   \n",
       "13790  (We have more than 1500+ Job openings in our w...   \n",
       "17285  Entry-Level Management – Train to Manager Role...   \n",
       "\n",
       "                                            requirements  \\\n",
       "12052  Essential Job FunctionsSelect, sort and verify...   \n",
       "15423  Must Have’s4+ years of relational database des...   \n",
       "16388  As a Senior Hardware Engineer you will build a...   \n",
       "13790                                                      \n",
       "17285                                                      \n",
       "\n",
       "                                                benefits has_questions  \\\n",
       "12052                                                                1   \n",
       "15423  The culture is that of teamwork, inspiration a...             0   \n",
       "16388  We are in an exciting growth phase, if you wou...             1   \n",
       "13790                                                                0   \n",
       "17285                                                                0   \n",
       "\n",
       "      employment_type required_experience required_education  fraudulent  \\\n",
       "12052                                                                  0   \n",
       "15423       Full-time    Mid-Senior level        Unspecified           0   \n",
       "16388       Full-time    Mid-Senior level  Bachelor's Degree           0   \n",
       "13790       Full-time                                                  0   \n",
       "17285       Full-time         Entry level        Unspecified           0   \n",
       "\n",
       "                                                    text  \n",
       "12052  Driver - Medium Duty (Hayward) - US - Our Hist...  \n",
       "15423  Database Analyst - US -  - OverviewOur client ...  \n",
       "16388  Senior Hardware Engineer - NZ - Want to be par...  \n",
       "13790  Mechanical Engineer - US - We Provide Full Tim...  \n",
       "17285  Management - Entry-Level - US - NY Marketing F...  "
      ]
     },
     "execution_count": 25,
     "metadata": {},
     "output_type": "execute_result"
    }
   ],
   "source": [
    "true_sample.head()"
   ]
  },
  {
   "cell_type": "code",
   "execution_count": 26,
   "id": "41e1768e",
   "metadata": {},
   "outputs": [
    {
     "data": {
      "text/html": [
       "<div>\n",
       "<style scoped>\n",
       "    .dataframe tbody tr th:only-of-type {\n",
       "        vertical-align: middle;\n",
       "    }\n",
       "\n",
       "    .dataframe tbody tr th {\n",
       "        vertical-align: top;\n",
       "    }\n",
       "\n",
       "    .dataframe thead th {\n",
       "        text-align: right;\n",
       "    }\n",
       "</style>\n",
       "<table border=\"1\" class=\"dataframe\">\n",
       "  <thead>\n",
       "    <tr style=\"text-align: right;\">\n",
       "      <th></th>\n",
       "      <th>title</th>\n",
       "      <th>location</th>\n",
       "      <th>company_profile</th>\n",
       "      <th>description</th>\n",
       "      <th>requirements</th>\n",
       "      <th>benefits</th>\n",
       "      <th>has_questions</th>\n",
       "      <th>employment_type</th>\n",
       "      <th>required_experience</th>\n",
       "      <th>required_education</th>\n",
       "      <th>fraudulent</th>\n",
       "      <th>text</th>\n",
       "    </tr>\n",
       "  </thead>\n",
       "  <tbody>\n",
       "    <tr>\n",
       "      <th>98</th>\n",
       "      <td>IC&amp;E Technician</td>\n",
       "      <td>US</td>\n",
       "      <td>...</td>\n",
       "      <td>IC&amp;amp;E Technician | Bakersfield, CA Mt. Poso...</td>\n",
       "      <td>QualificationsKnowledge, Skills &amp;amp; Abilitie...</td>\n",
       "      <td>BENEFITSWhat is offered:Competitive compensati...</td>\n",
       "      <td>1</td>\n",
       "      <td>Full-time</td>\n",
       "      <td>Mid-Senior level</td>\n",
       "      <td>High School or equivalent</td>\n",
       "      <td>1</td>\n",
       "      <td>IC&amp;E Technician - US -                        ...</td>\n",
       "    </tr>\n",
       "    <tr>\n",
       "      <th>144</th>\n",
       "      <td>Forward Cap.</td>\n",
       "      <td></td>\n",
       "      <td></td>\n",
       "      <td>The group has raised a fund for the purchase o...</td>\n",
       "      <td></td>\n",
       "      <td></td>\n",
       "      <td>0</td>\n",
       "      <td></td>\n",
       "      <td></td>\n",
       "      <td></td>\n",
       "      <td>1</td>\n",
       "      <td>Forward Cap. -  -  - The group has raised a fu...</td>\n",
       "    </tr>\n",
       "    <tr>\n",
       "      <th>173</th>\n",
       "      <td>Technician Instrument &amp; Controls</td>\n",
       "      <td>US</td>\n",
       "      <td>Edison International and Refined Resources hav...</td>\n",
       "      <td>Technician Instrument &amp;amp; ControlsLocation D...</td>\n",
       "      <td>JOB QUALIFICATIONS-Ability to understand proce...</td>\n",
       "      <td>we are a team of almost 8,000 employees who he...</td>\n",
       "      <td>1</td>\n",
       "      <td>Full-time</td>\n",
       "      <td>Mid-Senior level</td>\n",
       "      <td>Certification</td>\n",
       "      <td>1</td>\n",
       "      <td>Technician Instrument &amp; Controls  - US - Ediso...</td>\n",
       "    </tr>\n",
       "    <tr>\n",
       "      <th>180</th>\n",
       "      <td>Sales Executive</td>\n",
       "      <td>PK</td>\n",
       "      <td></td>\n",
       "      <td>Sales Executive</td>\n",
       "      <td>Sales Executive</td>\n",
       "      <td>Sales Executive</td>\n",
       "      <td>0</td>\n",
       "      <td></td>\n",
       "      <td></td>\n",
       "      <td></td>\n",
       "      <td>1</td>\n",
       "      <td>Sales Executive - PK -  - Sales Executive - Sa...</td>\n",
       "    </tr>\n",
       "    <tr>\n",
       "      <th>215</th>\n",
       "      <td>IC&amp;E Technician Mt Poso</td>\n",
       "      <td>US</td>\n",
       "      <td>...</td>\n",
       "      <td>IC&amp;amp;E Technician | Bakersfield, CA Mt. Poso...</td>\n",
       "      <td>QualificationsKnowledge, Skills &amp;amp; Abiliti...</td>\n",
       "      <td>BENEFITSWhat is offered:Competitive compensati...</td>\n",
       "      <td>1</td>\n",
       "      <td>Full-time</td>\n",
       "      <td>Mid-Senior level</td>\n",
       "      <td>High School or equivalent</td>\n",
       "      <td>1</td>\n",
       "      <td>IC&amp;E Technician Mt Poso - US -                ...</td>\n",
       "    </tr>\n",
       "  </tbody>\n",
       "</table>\n",
       "</div>"
      ],
      "text/plain": [
       "                                 title location  \\\n",
       "98                     IC&E Technician       US   \n",
       "144                       Forward Cap.            \n",
       "173  Technician Instrument & Controls        US   \n",
       "180                    Sales Executive       PK   \n",
       "215            IC&E Technician Mt Poso       US   \n",
       "\n",
       "                                       company_profile  \\\n",
       "98                                                 ...   \n",
       "144                                                      \n",
       "173  Edison International and Refined Resources hav...   \n",
       "180                                                      \n",
       "215                                                ...   \n",
       "\n",
       "                                           description  \\\n",
       "98   IC&amp;E Technician | Bakersfield, CA Mt. Poso...   \n",
       "144  The group has raised a fund for the purchase o...   \n",
       "173  Technician Instrument &amp; ControlsLocation D...   \n",
       "180                                    Sales Executive   \n",
       "215  IC&amp;E Technician | Bakersfield, CA Mt. Poso...   \n",
       "\n",
       "                                          requirements  \\\n",
       "98   QualificationsKnowledge, Skills &amp; Abilitie...   \n",
       "144                                                      \n",
       "173  JOB QUALIFICATIONS-Ability to understand proce...   \n",
       "180                                    Sales Executive   \n",
       "215   QualificationsKnowledge, Skills &amp; Abiliti...   \n",
       "\n",
       "                                              benefits has_questions  \\\n",
       "98   BENEFITSWhat is offered:Competitive compensati...             1   \n",
       "144                                                                0   \n",
       "173  we are a team of almost 8,000 employees who he...             1   \n",
       "180                                    Sales Executive             0   \n",
       "215  BENEFITSWhat is offered:Competitive compensati...             1   \n",
       "\n",
       "    employment_type required_experience         required_education  \\\n",
       "98        Full-time    Mid-Senior level  High School or equivalent   \n",
       "144                                                                  \n",
       "173       Full-time    Mid-Senior level              Certification   \n",
       "180                                                                  \n",
       "215       Full-time    Mid-Senior level  High School or equivalent   \n",
       "\n",
       "     fraudulent                                               text  \n",
       "98            1  IC&E Technician - US -                        ...  \n",
       "144           1  Forward Cap. -  -  - The group has raised a fu...  \n",
       "173           1  Technician Instrument & Controls  - US - Ediso...  \n",
       "180           1  Sales Executive - PK -  - Sales Executive - Sa...  \n",
       "215           1  IC&E Technician Mt Poso - US -                ...  "
      ]
     },
     "execution_count": 26,
     "metadata": {},
     "output_type": "execute_result"
    }
   ],
   "source": [
    "# Now we concatenate true and fake samples into a new dataset\n",
    "sample_data = pd.concat([fake_sample, true_sample], axis=0)\n",
    "sample_data.head()"
   ]
  },
  {
   "cell_type": "code",
   "execution_count": 27,
   "id": "d5b3f548",
   "metadata": {},
   "outputs": [
    {
     "data": {
      "text/plain": [
       "(1732, 12)"
      ]
     },
     "execution_count": 27,
     "metadata": {},
     "output_type": "execute_result"
    }
   ],
   "source": [
    "sample_data.shape"
   ]
  },
  {
   "cell_type": "code",
   "execution_count": 28,
   "id": "a75a6b1d",
   "metadata": {},
   "outputs": [
    {
     "data": {
      "text/plain": [
       "1    866\n",
       "0    866\n",
       "Name: fraudulent, dtype: int64"
      ]
     },
     "execution_count": 28,
     "metadata": {},
     "output_type": "execute_result"
    }
   ],
   "source": [
    "# Checking distribution of sample dataset\n",
    "sample_data['fraudulent'].value_counts()"
   ]
  },
  {
   "cell_type": "markdown",
   "id": "503d560d",
   "metadata": {},
   "source": [
    "## Separating Features and Label"
   ]
  },
  {
   "cell_type": "code",
   "execution_count": 29,
   "id": "a5f95106",
   "metadata": {},
   "outputs": [],
   "source": [
    "X = sample_data['text']\n",
    "Y = sample_data['fraudulent']"
   ]
  },
  {
   "cell_type": "code",
   "execution_count": 30,
   "id": "bc8ea095",
   "metadata": {},
   "outputs": [
    {
     "name": "stdout",
     "output_type": "stream",
     "text": [
      "98       IC&E Technician - US -                        ...\n",
      "144      Forward Cap. -  -  - The group has raised a fu...\n",
      "173      Technician Instrument & Controls  - US - Ediso...\n",
      "180      Sales Executive - PK -  - Sales Executive - Sa...\n",
      "215      IC&E Technician Mt Poso - US -                ...\n",
      "                               ...                        \n",
      "13358    Senior Sales Executive - West - US - From the ...\n",
      "6147     Solutions Architect - US - The Boston Consulti...\n",
      "11624    Title Insurance: Residential Escrow Assistant ...\n",
      "10939    Customer Service Imaging Technician - Part Tim...\n",
      "2571     Business Development - GB - ReadyCache is a pr...\n",
      "Name: text, Length: 1732, dtype: object\n"
     ]
    }
   ],
   "source": [
    "print(X)"
   ]
  },
  {
   "cell_type": "code",
   "execution_count": 31,
   "id": "00a72ac2",
   "metadata": {},
   "outputs": [
    {
     "name": "stdout",
     "output_type": "stream",
     "text": [
      "98       1\n",
      "144      1\n",
      "173      1\n",
      "180      1\n",
      "215      1\n",
      "        ..\n",
      "13358    0\n",
      "6147     0\n",
      "11624    0\n",
      "10939    0\n",
      "2571     0\n",
      "Name: fraudulent, Length: 1732, dtype: int64\n"
     ]
    }
   ],
   "source": [
    "print(Y)"
   ]
  },
  {
   "cell_type": "markdown",
   "id": "b1930f12",
   "metadata": {},
   "source": [
    "## Splitting into train and test data"
   ]
  },
  {
   "cell_type": "code",
   "execution_count": 32,
   "id": "e6c251e2",
   "metadata": {},
   "outputs": [],
   "source": [
    "X_train, X_test, Y_train, Y_test = train_test_split(X, Y, test_size=0.2, random_state=2, stratify=Y)"
   ]
  },
  {
   "cell_type": "code",
   "execution_count": 33,
   "id": "732763d3",
   "metadata": {},
   "outputs": [
    {
     "name": "stdout",
     "output_type": "stream",
     "text": [
      "(1732,) (1385,) (347,)\n"
     ]
    }
   ],
   "source": [
    "print(X.shape, X_train.shape, X_test.shape)"
   ]
  },
  {
   "cell_type": "code",
   "execution_count": 34,
   "id": "24dd96d2",
   "metadata": {},
   "outputs": [
    {
     "name": "stdout",
     "output_type": "stream",
     "text": [
      "50.0 50.03610108303249 49.85590778097983\n"
     ]
    }
   ],
   "source": [
    "# Checking porcentages of false offers on train and test and original set. The stratify worked well.\n",
    "print(Y.value_counts()[1] / Y.shape[0] * 100, Y_train.value_counts()[1] / Y_train.shape[0] * 100,  Y_test.value_counts()[1] / Y_test.shape[0] * 100)"
   ]
  },
  {
   "cell_type": "markdown",
   "id": "2b11787d",
   "metadata": {},
   "source": [
    "## Feature Extraction"
   ]
  },
  {
   "cell_type": "code",
   "execution_count": 35,
   "id": "365fbb92",
   "metadata": {},
   "outputs": [],
   "source": [
    "# Transform the text data to feature vectors that can be used as input to the logistic regression model\n",
    "feature_extraction = TfidfVectorizer(min_df=1, stop_words='english', lowercase=True)"
   ]
  },
  {
   "cell_type": "code",
   "execution_count": 36,
   "id": "52e42de7",
   "metadata": {},
   "outputs": [],
   "source": [
    "X_train_features = feature_extraction.fit_transform(X_train)"
   ]
  },
  {
   "cell_type": "code",
   "execution_count": 37,
   "id": "a3852b84",
   "metadata": {},
   "outputs": [],
   "source": [
    "X_test_features = feature_extraction.transform(X_test)"
   ]
  },
  {
   "cell_type": "code",
   "execution_count": 38,
   "id": "3cf1fce1",
   "metadata": {},
   "outputs": [
    {
     "name": "stdout",
     "output_type": "stream",
     "text": [
      "  (0, 20823)\t0.03438033686999036\n",
      "  (0, 5782)\t0.02942659979047749\n",
      "  (0, 3862)\t0.02703195496724726\n",
      "  (0, 6395)\t0.024699209597137617\n",
      "  (0, 6746)\t0.028506147113333876\n",
      "  (0, 11068)\t0.013973280370161215\n",
      "  (0, 1818)\t0.02297891301803409\n",
      "  (0, 15452)\t0.018751819233298255\n",
      "  (0, 7100)\t0.029992993602977625\n",
      "  (0, 6386)\t0.018751819233298255\n",
      "  (0, 18023)\t0.03337838179779562\n",
      "  (0, 4150)\t0.030232451771624112\n",
      "  (0, 6384)\t0.046230836595676825\n",
      "  (0, 20185)\t0.044946925524773494\n",
      "  (0, 10733)\t0.03141929823426\n",
      "  (0, 14075)\t0.02580595119986002\n",
      "  (0, 9711)\t0.04140134941543495\n",
      "  (0, 4331)\t0.04592208122803222\n",
      "  (0, 13024)\t0.041985886889043124\n",
      "  (0, 14958)\t0.021188827868395915\n",
      "  (0, 13457)\t0.01930274182665955\n",
      "  (0, 7092)\t0.02841068405671983\n",
      "  (0, 15889)\t0.032610921668924125\n",
      "  (0, 10217)\t0.021550427463982183\n",
      "  (0, 9143)\t0.035798223264214286\n",
      "  :\t:\n",
      "  (1384, 7444)\t0.05404139977208515\n",
      "  (1384, 12022)\t0.03208925795798733\n",
      "  (1384, 612)\t0.02061520924451085\n",
      "  (1384, 16842)\t0.03256895153207264\n",
      "  (1384, 15274)\t0.03451727355982302\n",
      "  (1384, 6649)\t0.04166966180126083\n",
      "  (1384, 20828)\t0.09844441995372867\n",
      "  (1384, 20799)\t0.05432731139039215\n",
      "  (1384, 4797)\t0.024952895452876437\n",
      "  (1384, 7003)\t0.024863853225228216\n",
      "  (1384, 18971)\t0.024950393146606787\n",
      "  (1384, 11030)\t0.026769889810664103\n",
      "  (1384, 4950)\t0.057077981769086565\n",
      "  (1384, 17934)\t0.03681656454485148\n",
      "  (1384, 2230)\t0.02228131380002465\n",
      "  (1384, 7633)\t0.03738195557567047\n",
      "  (1384, 6768)\t0.04499013534530245\n",
      "  (1384, 40)\t0.036544838592394\n",
      "  (1384, 12298)\t0.05842171983505415\n",
      "  (1384, 11776)\t0.05527314423702244\n",
      "  (1384, 14527)\t0.026912479025985894\n",
      "  (1384, 8451)\t0.03135347073119883\n",
      "  (1384, 2870)\t0.07897327900191582\n",
      "  (1384, 11229)\t0.029687980470876795\n",
      "  (1384, 3924)\t0.017345262602584146\n"
     ]
    }
   ],
   "source": [
    "print(X_train_features)"
   ]
  },
  {
   "cell_type": "markdown",
   "id": "5f1b8935",
   "metadata": {},
   "source": [
    "## Training Logistic Regression Model"
   ]
  },
  {
   "cell_type": "code",
   "execution_count": 39,
   "id": "ce854252",
   "metadata": {},
   "outputs": [],
   "source": [
    "model = LogisticRegression(C=2.5)"
   ]
  },
  {
   "cell_type": "code",
   "execution_count": 40,
   "id": "6051ac20",
   "metadata": {},
   "outputs": [
    {
     "data": {
      "text/html": [
       "<style>#sk-container-id-1 {color: black;background-color: white;}#sk-container-id-1 pre{padding: 0;}#sk-container-id-1 div.sk-toggleable {background-color: white;}#sk-container-id-1 label.sk-toggleable__label {cursor: pointer;display: block;width: 100%;margin-bottom: 0;padding: 0.3em;box-sizing: border-box;text-align: center;}#sk-container-id-1 label.sk-toggleable__label-arrow:before {content: \"▸\";float: left;margin-right: 0.25em;color: #696969;}#sk-container-id-1 label.sk-toggleable__label-arrow:hover:before {color: black;}#sk-container-id-1 div.sk-estimator:hover label.sk-toggleable__label-arrow:before {color: black;}#sk-container-id-1 div.sk-toggleable__content {max-height: 0;max-width: 0;overflow: hidden;text-align: left;background-color: #f0f8ff;}#sk-container-id-1 div.sk-toggleable__content pre {margin: 0.2em;color: black;border-radius: 0.25em;background-color: #f0f8ff;}#sk-container-id-1 input.sk-toggleable__control:checked~div.sk-toggleable__content {max-height: 200px;max-width: 100%;overflow: auto;}#sk-container-id-1 input.sk-toggleable__control:checked~label.sk-toggleable__label-arrow:before {content: \"▾\";}#sk-container-id-1 div.sk-estimator input.sk-toggleable__control:checked~label.sk-toggleable__label {background-color: #d4ebff;}#sk-container-id-1 div.sk-label input.sk-toggleable__control:checked~label.sk-toggleable__label {background-color: #d4ebff;}#sk-container-id-1 input.sk-hidden--visually {border: 0;clip: rect(1px 1px 1px 1px);clip: rect(1px, 1px, 1px, 1px);height: 1px;margin: -1px;overflow: hidden;padding: 0;position: absolute;width: 1px;}#sk-container-id-1 div.sk-estimator {font-family: monospace;background-color: #f0f8ff;border: 1px dotted black;border-radius: 0.25em;box-sizing: border-box;margin-bottom: 0.5em;}#sk-container-id-1 div.sk-estimator:hover {background-color: #d4ebff;}#sk-container-id-1 div.sk-parallel-item::after {content: \"\";width: 100%;border-bottom: 1px solid gray;flex-grow: 1;}#sk-container-id-1 div.sk-label:hover label.sk-toggleable__label {background-color: #d4ebff;}#sk-container-id-1 div.sk-serial::before {content: \"\";position: absolute;border-left: 1px solid gray;box-sizing: border-box;top: 0;bottom: 0;left: 50%;z-index: 0;}#sk-container-id-1 div.sk-serial {display: flex;flex-direction: column;align-items: center;background-color: white;padding-right: 0.2em;padding-left: 0.2em;position: relative;}#sk-container-id-1 div.sk-item {position: relative;z-index: 1;}#sk-container-id-1 div.sk-parallel {display: flex;align-items: stretch;justify-content: center;background-color: white;position: relative;}#sk-container-id-1 div.sk-item::before, #sk-container-id-1 div.sk-parallel-item::before {content: \"\";position: absolute;border-left: 1px solid gray;box-sizing: border-box;top: 0;bottom: 0;left: 50%;z-index: -1;}#sk-container-id-1 div.sk-parallel-item {display: flex;flex-direction: column;z-index: 1;position: relative;background-color: white;}#sk-container-id-1 div.sk-parallel-item:first-child::after {align-self: flex-end;width: 50%;}#sk-container-id-1 div.sk-parallel-item:last-child::after {align-self: flex-start;width: 50%;}#sk-container-id-1 div.sk-parallel-item:only-child::after {width: 0;}#sk-container-id-1 div.sk-dashed-wrapped {border: 1px dashed gray;margin: 0 0.4em 0.5em 0.4em;box-sizing: border-box;padding-bottom: 0.4em;background-color: white;}#sk-container-id-1 div.sk-label label {font-family: monospace;font-weight: bold;display: inline-block;line-height: 1.2em;}#sk-container-id-1 div.sk-label-container {text-align: center;}#sk-container-id-1 div.sk-container {/* jupyter's `normalize.less` sets `[hidden] { display: none; }` but bootstrap.min.css set `[hidden] { display: none !important; }` so we also need the `!important` here to be able to override the default hidden behavior on the sphinx rendered scikit-learn.org. See: https://github.com/scikit-learn/scikit-learn/issues/21755 */display: inline-block !important;position: relative;}#sk-container-id-1 div.sk-text-repr-fallback {display: none;}</style><div id=\"sk-container-id-1\" class=\"sk-top-container\"><div class=\"sk-text-repr-fallback\"><pre>LogisticRegression(C=2.5)</pre><b>In a Jupyter environment, please rerun this cell to show the HTML representation or trust the notebook. <br />On GitHub, the HTML representation is unable to render, please try loading this page with nbviewer.org.</b></div><div class=\"sk-container\" hidden><div class=\"sk-item\"><div class=\"sk-estimator sk-toggleable\"><input class=\"sk-toggleable__control sk-hidden--visually\" id=\"sk-estimator-id-1\" type=\"checkbox\" checked><label for=\"sk-estimator-id-1\" class=\"sk-toggleable__label sk-toggleable__label-arrow\">LogisticRegression</label><div class=\"sk-toggleable__content\"><pre>LogisticRegression(C=2.5)</pre></div></div></div></div></div>"
      ],
      "text/plain": [
       "LogisticRegression(C=2.5)"
      ]
     },
     "execution_count": 40,
     "metadata": {},
     "output_type": "execute_result"
    }
   ],
   "source": [
    "# Training the logistic regression model with training data (features_data)\n",
    "model.fit(X_train_features, Y_train)"
   ]
  },
  {
   "cell_type": "markdown",
   "id": "f84ed9ab",
   "metadata": {},
   "source": [
    "## Evaluating the model"
   ]
  },
  {
   "cell_type": "code",
   "execution_count": 41,
   "id": "9813b2e7",
   "metadata": {},
   "outputs": [],
   "source": [
    "# Prediction on training data\n",
    "prediction_on_training_data = model.predict(X_train_features)\n",
    "accuracy_on_training_data = accuracy_score(Y_train, prediction_on_training_data)\n",
    "precision_on_training_data = precision_score(Y_train, prediction_on_training_data)\n",
    "recall_on_training_data = recall_score(Y_train, prediction_on_training_data)\n",
    "f1_on_training_data = f1_score(Y_train, prediction_on_training_data)"
   ]
  },
  {
   "cell_type": "code",
   "execution_count": 42,
   "id": "0efdff29",
   "metadata": {},
   "outputs": [
    {
     "name": "stdout",
     "output_type": "stream",
     "text": [
      "Accuracy on training data is 0.9877256317689531\n",
      "Precision on training data is 0.9912790697674418\n",
      "Recall on training data is 0.9841269841269841\n",
      "F1 Score on training data is 0.9876900796524257\n"
     ]
    }
   ],
   "source": [
    "print(f\"Accuracy on training data is {accuracy_on_training_data}\")\n",
    "print(f\"Precision on training data is {precision_on_training_data}\")\n",
    "print(f\"Recall on training data is {recall_on_training_data}\")\n",
    "print(f\"F1 Score on training data is {f1_on_training_data}\")"
   ]
  },
  {
   "cell_type": "code",
   "execution_count": 43,
   "id": "d5049f2c",
   "metadata": {},
   "outputs": [],
   "source": [
    "# Prediction on test data\n",
    "prediction_on_test_data = model.predict(X_test_features)\n",
    "accuracy_on_test_data = accuracy_score(Y_test, prediction_on_test_data)\n",
    "precision_on_test_data = precision_score(Y_test, prediction_on_test_data)\n",
    "recall_on_test_data = recall_score(Y_test, prediction_on_test_data)\n",
    "f1_on_test_data = f1_score(Y_test, prediction_on_test_data)"
   ]
  },
  {
   "cell_type": "code",
   "execution_count": 44,
   "id": "b7df4f95",
   "metadata": {},
   "outputs": [
    {
     "name": "stdout",
     "output_type": "stream",
     "text": [
      "Accuracy on test data is 0.9048991354466859\n",
      "Precision on test data is 0.9069767441860465\n",
      "Recall on test data is 0.9017341040462428\n",
      "F1 Score on test data is 0.9043478260869565\n"
     ]
    }
   ],
   "source": [
    "print(f\"Accuracy on test data is {accuracy_on_test_data}\")\n",
    "print(f\"Precision on test data is {precision_on_test_data}\")\n",
    "print(f\"Recall on test data is {recall_on_test_data}\")\n",
    "print(f\"F1 Score on test data is {f1_on_test_data}\")"
   ]
  },
  {
   "cell_type": "code",
   "execution_count": 45,
   "id": "1695fa2a",
   "metadata": {},
   "outputs": [],
   "source": [
    "cf_matrix = confusion_matrix(Y_test, prediction_on_test_data)"
   ]
  },
  {
   "cell_type": "code",
   "execution_count": 46,
   "id": "5ce65d6e",
   "metadata": {},
   "outputs": [
    {
     "data": {
      "image/png": "[encoded data removed]",
      "text/plain": [
       "<Figure size 640x480 with 2 Axes>"
      ]
     },
     "metadata": {},
     "output_type": "display_data"
    }
   ],
   "source": [
    "sns.heatmap(cf_matrix, annot=True, fmt=\"g\")\n",
    "plt.xlabel('Predicted value')\n",
    "plt.ylabel('True value')\n",
    "plt.show()"
   ]
  },
  {
   "cell_type": "markdown",
   "id": "ac0f4ea5",
   "metadata": {},
   "source": [
    "0 $\\longrightarrow$ True Job Offer  \n",
    "1 $\\longrightarrow$ Fake Job Offer"
   ]
  },
  {
   "cell_type": "markdown",
   "id": "8eae0d1e",
   "metadata": {},
   "source": [
    "**Metrics are very similar, which means no overfitting.**  \n",
    "**Out of 173 fake job offers in the test data, 155 are correctly classified as such.**  \n",
    "**In this case 90% of F1 Score will be considered acceptable.**"
   ]
  },
  {
   "cell_type": "markdown",
   "id": "5d45fe26",
   "metadata": {},
   "source": [
    "## Predictive System"
   ]
  },
  {
   "cell_type": "code",
   "execution_count": 47,
   "id": "8aca222b",
   "metadata": {},
   "outputs": [
    {
     "name": "stdout",
     "output_type": "stream",
     "text": [
      "job_id                                                                 1\n",
      "title                                                   Marketing Intern\n",
      "location                                                US, NY, New York\n",
      "department                                                     Marketing\n",
      "salary_range                                                         NaN\n",
      "company_profile        We're Food52, and we've created a groundbreaki...\n",
      "description            Food52, a fast-growing, James Beard Award-winn...\n",
      "requirements           Experience with content management systems a m...\n",
      "benefits                                                             NaN\n",
      "telecommuting                                                          0\n",
      "has_company_logo                                                       1\n",
      "has_questions                                                          0\n",
      "employment_type                                                    Other\n",
      "required_experience                                           Internship\n",
      "required_education                                                   NaN\n",
      "industry                                                             NaN\n",
      "function                                                       Marketing\n",
      "fraudulent                                                             0\n",
      "Name: 0, dtype: object\n"
     ]
    }
   ],
   "source": [
    "# Test for 0\n",
    "input_offer = job_data.iloc[0, :]\n",
    "print(input_offer)\n",
    "# Test for 1\n",
    "#input_offer = job_data.iloc[98, :]\n",
    "# Dropping columns (use labels in panda Series)\n",
    "input_offer_filtered = input_offer.drop(labels=['job_id', 'department', 'salary_range', 'telecommuting', 'has_company_logo', 'industry', 'function'])\n",
    "# Removing NaN\n",
    "input_offer_filtered = input_offer_filtered.where((pd.notnull(input_offer_filtered)), '')\n",
    "# Getting the country\n",
    "input_offer_filtered['location'] = get_country(input_offer_filtered['location'])\n",
    "# has_questions to string\n",
    "input_offer_filtered['has_questions'] = str(input_offer_filtered['has_questions'])\n",
    "# Creating text column\n",
    "input_offer_filtered['text'] = input_offer_filtered['title'] + ' - ' + input_offer_filtered['location'] + ' - ' + input_offer_filtered['company_profile'] + ' - ' + input_offer_filtered['description'] + ' - ' + input_offer_filtered['requirements'] +  ' - ' + input_offer_filtered['benefits'] + ' - ' + input_offer_filtered['has_questions'] + ' - ' + input_offer_filtered['employment_type'] + ' - ' + input_offer_filtered['required_experience'] + ' - ' + input_offer_filtered['required_education']\n"
   ]
  },
  {
   "cell_type": "code",
   "execution_count": 48,
   "id": "4e5d3bec",
   "metadata": {},
   "outputs": [],
   "source": [
    "# Prediction features\n",
    "X_prediction_features = feature_extraction.transform([input_offer_filtered['text']])"
   ]
  },
  {
   "cell_type": "code",
   "execution_count": 49,
   "id": "75b2d38f",
   "metadata": {},
   "outputs": [],
   "source": [
    "prediction = model.predict(X_prediction_features)"
   ]
  },
  {
   "cell_type": "code",
   "execution_count": 50,
   "id": "a5ad4e7c",
   "metadata": {},
   "outputs": [
    {
     "name": "stdout",
     "output_type": "stream",
     "text": [
      "True job offer\n"
     ]
    }
   ],
   "source": [
    "if prediction[0] == 0:\n",
    "    print(\"True job offer\")\n",
    "else:\n",
    "    print(\"Fake job offer\")"
   ]
  },
  {
   "cell_type": "markdown",
   "id": "bf089abb",
   "metadata": {},
   "source": [
    "## Files for Django App"
   ]
  },
  {
   "cell_type": "code",
   "execution_count": 51,
   "id": "a8caeced",
   "metadata": {},
   "outputs": [
    {
     "data": {
      "text/plain": [
       "['US',\n",
       " 'NZ',\n",
       " 'DE',\n",
       " 'GB',\n",
       " 'AU',\n",
       " 'SG',\n",
       " 'IL',\n",
       " 'AE',\n",
       " 'CA',\n",
       " 'IN',\n",
       " 'EG',\n",
       " 'PL',\n",
       " 'GR',\n",
       " '',\n",
       " 'PK',\n",
       " 'BE',\n",
       " 'BR',\n",
       " 'SA',\n",
       " 'DK',\n",
       " 'RU',\n",
       " 'ZA',\n",
       " 'CY',\n",
       " 'HK',\n",
       " 'TR',\n",
       " 'IE',\n",
       " 'LT',\n",
       " 'JP',\n",
       " 'NL',\n",
       " 'AT',\n",
       " 'KR',\n",
       " 'FR',\n",
       " 'EE',\n",
       " 'TH',\n",
       " 'PA',\n",
       " 'KE',\n",
       " 'MU',\n",
       " 'MX',\n",
       " 'RO',\n",
       " 'MY',\n",
       " 'FI',\n",
       " 'CN',\n",
       " 'ES',\n",
       " 'SE',\n",
       " 'CL',\n",
       " 'UA',\n",
       " 'QA',\n",
       " 'IT',\n",
       " 'LV',\n",
       " 'IQ',\n",
       " 'BG',\n",
       " 'PH',\n",
       " 'CZ',\n",
       " 'VI',\n",
       " 'MT',\n",
       " 'HU',\n",
       " 'BD',\n",
       " 'KW',\n",
       " 'LU',\n",
       " 'NG',\n",
       " 'RS',\n",
       " 'BY',\n",
       " 'VN',\n",
       " 'ID',\n",
       " 'ZM',\n",
       " 'NO',\n",
       " 'BH',\n",
       " 'UG',\n",
       " 'CH',\n",
       " 'TT',\n",
       " 'SD',\n",
       " 'SK',\n",
       " 'AR',\n",
       " 'TW',\n",
       " 'PT',\n",
       " 'PE',\n",
       " 'CO',\n",
       " 'IS',\n",
       " 'SI',\n",
       " 'MA',\n",
       " 'AM',\n",
       " 'TN',\n",
       " 'GH',\n",
       " 'AL',\n",
       " 'HR',\n",
       " 'CM',\n",
       " 'SV',\n",
       " 'NI',\n",
       " 'LK',\n",
       " 'JM',\n",
       " 'KZ',\n",
       " 'KH']"
      ]
     },
     "execution_count": 51,
     "metadata": {},
     "output_type": "execute_result"
    }
   ],
   "source": [
    "# List of possible countries from dataframe\n",
    "clean_job_data['location'].unique().tolist()"
   ]
  },
  {
   "cell_type": "code",
   "execution_count": 52,
   "id": "6fe6b5ec",
   "metadata": {},
   "outputs": [
    {
     "name": "stdout",
     "output_type": "stream",
     "text": [
      "['US' 'NZ' 'DE' 'GB' 'AU' 'SG' 'IL' 'AE' 'CA' 'IN' 'EG' 'PL' 'GR'\n",
      " 'UNKNOWN/OTHER' 'PK' 'BE' 'BR' 'SA' 'DK' 'RU' 'ZA' 'CY' 'HK' 'TR' 'IE'\n",
      " 'LT' 'JP' 'NL' 'AT' 'KR' 'FR' 'EE' 'TH' 'PA' 'KE' 'MU' 'MX' 'RO' 'MY'\n",
      " 'FI' 'CN' 'ES' 'SE' 'CL' 'UA' 'QA' 'IT' 'LV' 'IQ' 'BG' 'PH' 'CZ' 'VI'\n",
      " 'MT' 'HU' 'BD' 'KW' 'LU' 'NG' 'RS' 'BY' 'VN' 'ID' 'ZM' 'NO' 'BH' 'UG'\n",
      " 'CH' 'TT' 'SD' 'SK' 'AR' 'TW' 'PT' 'PE' 'CO' 'IS' 'SI' 'MA' 'AM' 'TN'\n",
      " 'GH' 'AL' 'HR' 'CM' 'SV' 'NI' 'LK' 'JM' 'KZ' 'KH']\n"
     ]
    }
   ],
   "source": [
    "# replacing empty string with UNKNOWN/OTHER\n",
    "possible_countries = np.where(clean_job_data['location'].unique() == \"\", \"UNKNOWN/OTHER\", clean_job_data['location'].unique())\n",
    "print(possible_countries)"
   ]
  },
  {
   "cell_type": "code",
   "execution_count": 53,
   "id": "733c7bd5",
   "metadata": {},
   "outputs": [
    {
     "name": "stdout",
     "output_type": "stream",
     "text": [
      "['US', 'NZ', 'DE', 'GB', 'AU', 'SG', 'IL', 'AE', 'CA', 'IN', 'EG', 'PL', 'GR', 'UNKNOWN/OTHER', 'PK', 'BE', 'BR', 'SA', 'DK', 'RU', 'ZA', 'CY', 'HK', 'TR', 'IE', 'LT', 'JP', 'NL', 'AT', 'KR', 'FR', 'EE', 'TH', 'PA', 'KE', 'MU', 'MX', 'RO', 'MY', 'FI', 'CN', 'ES', 'SE', 'CL', 'UA', 'QA', 'IT', 'LV', 'IQ', 'BG', 'PH', 'CZ', 'VI', 'MT', 'HU', 'BD', 'KW', 'LU', 'NG', 'RS', 'BY', 'VN', 'ID', 'ZM', 'NO', 'BH', 'UG', 'CH', 'TT', 'SD', 'SK', 'AR', 'TW', 'PT', 'PE', 'CO', 'IS', 'SI', 'MA', 'AM', 'TN', 'GH', 'AL', 'HR', 'CM', 'SV', 'NI', 'LK', 'JM', 'KZ', 'KH']\n"
     ]
    }
   ],
   "source": [
    "# converting to list\n",
    "possible_countries_as_list = possible_countries.tolist()\n",
    "print(possible_countries_as_list)"
   ]
  },
  {
   "cell_type": "code",
   "execution_count": 54,
   "id": "e507fede",
   "metadata": {},
   "outputs": [
    {
     "data": {
      "text/plain": [
       "array(['Other', 'Full-time', '', 'Part-time', 'Contract', 'Temporary'],\n",
       "      dtype=object)"
      ]
     },
     "execution_count": 54,
     "metadata": {},
     "output_type": "execute_result"
    }
   ],
   "source": [
    "# Possible employment types\n",
    "clean_job_data['employment_type'].unique()"
   ]
  },
  {
   "cell_type": "code",
   "execution_count": 55,
   "id": "c86a713b",
   "metadata": {},
   "outputs": [],
   "source": [
    "# Replacing empty string\n",
    "possible_employment_types = np.where(clean_job_data['employment_type'].unique() == \"\", \"UNKNOWN\", clean_job_data['employment_type'].unique())"
   ]
  },
  {
   "cell_type": "code",
   "execution_count": 56,
   "id": "1a22bdc8",
   "metadata": {},
   "outputs": [
    {
     "name": "stdout",
     "output_type": "stream",
     "text": [
      "['Other', 'Full-time', 'UNKNOWN', 'Part-time', 'Contract', 'Temporary']\n"
     ]
    }
   ],
   "source": [
    "possible_employment_types_as_list = possible_employment_types.tolist()\n",
    "print(possible_employment_types_as_list)"
   ]
  },
  {
   "cell_type": "code",
   "execution_count": 57,
   "id": "2209a5a9",
   "metadata": {},
   "outputs": [],
   "source": [
    "# Possible required experience"
   ]
  },
  {
   "cell_type": "code",
   "execution_count": 58,
   "id": "c3282a32",
   "metadata": {},
   "outputs": [
    {
     "data": {
      "text/plain": [
       "array(['Internship', 'Not Applicable', '', 'Mid-Senior level',\n",
       "       'Associate', 'Entry level', 'Executive', 'Director'], dtype=object)"
      ]
     },
     "execution_count": 58,
     "metadata": {},
     "output_type": "execute_result"
    }
   ],
   "source": [
    "clean_job_data['required_experience'].unique()"
   ]
  },
  {
   "cell_type": "code",
   "execution_count": 59,
   "id": "37189d1b",
   "metadata": {},
   "outputs": [],
   "source": [
    "# Replacing empty string\n",
    "possible_required_experience = np.where(clean_job_data['required_experience'].unique() == \"\", \"UNKNOWN/OTHER\", clean_job_data['required_experience'].unique())"
   ]
  },
  {
   "cell_type": "code",
   "execution_count": 60,
   "id": "0bf8257d",
   "metadata": {},
   "outputs": [
    {
     "name": "stdout",
     "output_type": "stream",
     "text": [
      "['Internship', 'Not Applicable', 'UNKNOWN/OTHER', 'Mid-Senior level', 'Associate', 'Entry level', 'Executive', 'Director']\n"
     ]
    }
   ],
   "source": [
    "possible_required_experience_as_list = possible_required_experience.tolist()\n",
    "print(possible_required_experience_as_list)"
   ]
  },
  {
   "cell_type": "code",
   "execution_count": 61,
   "id": "0968a577",
   "metadata": {},
   "outputs": [
    {
     "data": {
      "text/plain": [
       "array(['', \"Bachelor's Degree\", \"Master's Degree\",\n",
       "       'High School or equivalent', 'Unspecified',\n",
       "       'Some College Coursework Completed', 'Vocational', 'Certification',\n",
       "       'Associate Degree', 'Professional', 'Doctorate',\n",
       "       'Some High School Coursework', 'Vocational - Degree',\n",
       "       'Vocational - HS Diploma'], dtype=object)"
      ]
     },
     "execution_count": 61,
     "metadata": {},
     "output_type": "execute_result"
    }
   ],
   "source": [
    "# Possible required education\n",
    "clean_job_data['required_education'].unique()"
   ]
  },
  {
   "cell_type": "code",
   "execution_count": 62,
   "id": "fdae3c6f",
   "metadata": {},
   "outputs": [],
   "source": [
    "# Replacing empty string\n",
    "possible_required_education = np.where(clean_job_data['required_education'].unique() == \"\", \"UNKNOWN/OTHER\", clean_job_data['required_education'].unique())"
   ]
  },
  {
   "cell_type": "code",
   "execution_count": 63,
   "id": "6daec9ec",
   "metadata": {},
   "outputs": [
    {
     "name": "stdout",
     "output_type": "stream",
     "text": [
      "['UNKNOWN/OTHER', \"Bachelor's Degree\", \"Master's Degree\", 'High School or equivalent', 'Unspecified', 'Some College Coursework Completed', 'Vocational', 'Certification', 'Associate Degree', 'Professional', 'Doctorate', 'Some High School Coursework', 'Vocational - Degree', 'Vocational - HS Diploma']\n"
     ]
    }
   ],
   "source": [
    "possible_required_education_as_list = possible_required_education.tolist()\n",
    "print(possible_required_education_as_list)"
   ]
  },
  {
   "cell_type": "code",
   "execution_count": 64,
   "id": "874d8c2f",
   "metadata": {},
   "outputs": [],
   "source": [
    "form_input_data = {\n",
    "    'possible_locations': possible_countries_as_list,\n",
    "    'possible_employment_types': possible_employment_types_as_list,\n",
    "    'possible_required_experience': possible_required_experience_as_list,\n",
    "    'possible_required_education': possible_required_education_as_list\n",
    "}"
   ]
  },
  {
   "cell_type": "code",
   "execution_count": 65,
   "id": "f405df51",
   "metadata": {},
   "outputs": [],
   "source": [
    "pd.to_pickle(form_input_data,'form_input_data.pickle')"
   ]
  },
  {
   "cell_type": "code",
   "execution_count": 66,
   "id": "a81da6e5",
   "metadata": {},
   "outputs": [],
   "source": [
    "pd.to_pickle(model,'prediction_model.pickle')"
   ]
  },
  {
   "cell_type": "code",
   "execution_count": 67,
   "id": "ed16db30",
   "metadata": {},
   "outputs": [],
   "source": [
    "pd.to_pickle(feature_extraction, 'feature_extraction.pickle')"
   ]
  },
  {
   "cell_type": "code",
   "execution_count": 68,
   "id": "ff85a655",
   "metadata": {},
   "outputs": [],
   "source": [
    "# csv with semicolon for easier testing\n",
    "job_data.to_csv(sep=';', path_or_buf='dataset/fake_job_data_semicolon.csv', index=False)"
   ]
  },
  {
   "cell_type": "code",
   "execution_count": null,
   "id": "dea73c20",
   "metadata": {},
   "outputs": [],
   "source": []
  }
 ],
 "metadata": {
  "kernelspec": {
   "display_name": "Python 3 (ipykernel)",
   "language": "python",
   "name": "python3"
  },
  "language_info": {
   "codemirror_mode": {
    "name": "ipython",
    "version": 3
   },
   "file_extension": ".py",
   "mimetype": "text/x-python",
   "name": "python",
   "nbconvert_exporter": "python",
   "pygments_lexer": "ipython3",
   "version": "3.9.11"
  }
 },
 "nbformat": 4,
 "nbformat_minor": 5
}
